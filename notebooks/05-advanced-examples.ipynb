{
 "cells": [
  {
   "cell_type": "markdown",
   "metadata": {},
   "source": [
    "# 🚀 Advanced Examples with Strands Agents\n",
    "\n",
    "This notebook demonstrates real-world applications and advanced use cases for Strands agents, focusing on practical code review scenarios.\n",
    "\n",
    "## What you'll learn\n",
    "- Creating custom tools for code analysis\n",
    "- Building specialized agents for specific tasks\n",
    "- Combining multiple tools for comprehensive workflows\n",
    "- Real-world application patterns\n",
    "\n",
    "## Prerequisites\n",
    "- Completed notebooks 01-04\n",
    "- Understanding of tools and agent configuration\n",
    "- Basic Python knowledge for code examples"
   ]
  },
  {
   "cell_type": "markdown",
   "metadata": {},
   "source": [
    "## Setup and Installation"
   ]
  },
  {
   "cell_type": "code",
   "execution_count": null,
   "metadata": {},
   "outputs": [],
   "source": [
    "!pip install -r requirements.txt"
   ]
  },
  {
   "cell_type": "markdown",
   "metadata": {},
   "source": [
    "## Configuration and Imports"
   ]
  },
  {
   "cell_type": "code",
   "execution_count": null,
   "metadata": {},
   "outputs": [],
   "source": [
    "import os\n",
    "from strands import Agent, tool\n",
    "from strands_tools import file_read, shell\n",
    "import logging\n",
    "\n",
    "# Configure environment\n",
    "os.environ.setdefault(\"AWS_REGION\", \"us-west-2\")\n",
    "logging.getLogger(\"strands\").setLevel(logging.WARNING)\n",
    "\n",
    "# Optional: Set MEM0 API key for memory features (get your free key from https://mem0.ai)\n",
    "MEM0_API_KEY = os.getenv(\"MEM0_API_KEY\")\n",
    "if MEM0_API_KEY:\n",
    "    os.environ[\"MEM0_API_KEY\"] = MEM0_API_KEY\n",
    "\n",
    "print(\"👨💻 Advanced examples setup complete!\")"
   ]
  },
  {
   "cell_type": "markdown",
   "metadata": {},
   "source": [
    "## Creating Custom Tools\n",
    "\n",
    "Let's create specialized tools for code analysis:"
   ]
  },
  {
   "cell_type": "code",
   "execution_count": null,
   "metadata": {},
   "outputs": [],
   "source": [
    "@tool\n",
    "def analyze_code(code: str) -> str:\n",
    "    \"\"\"Analyze code for basic metrics\"\"\"\n",
    "    lines = len([l for l in code.split('\\n') if l.strip()])\n",
    "    functions = code.count('def ')\n",
    "    classes = code.count('class ')\n",
    "    complexity = \"Low\" if lines < 10 else \"Medium\" if lines < 50 else \"High\"\n",
    "    \n",
    "    return f\"Analysis: {lines} lines, {functions} functions, {classes} classes, {complexity} complexity\"\n",
    "\n",
    "@tool\n",
    "def check_style(code: str) -> str:\n",
    "    \"\"\"Check basic Python style\"\"\"\n",
    "    issues = []\n",
    "    if '\\t' in code:\n",
    "        issues.append(\"Uses tabs instead of spaces\")\n",
    "    if any(len(line) > 100 for line in code.split('\\n')):\n",
    "        issues.append(\"Lines too long (>100 chars)\")\n",
    "    \n",
    "    return f\"Style issues: {', '.join(issues) if issues else 'None found'}\"\n",
    "\n",
    "print(\"🔧 Custom tools created successfully!\")"
   ]
  },
  {
   "cell_type": "markdown",
   "metadata": {},
   "source": [
    "## Building a Code Review Agent\n",
    "\n",
    "Now let's create a specialized agent for code review:"
   ]
  },
  {
   "cell_type": "code",
   "execution_count": null,
   "metadata": {},
   "outputs": [],
   "source": [
    "# Create specialized code review agent\n",
    "code_review_agent = Agent(\n",
    "    model=\"us.anthropic.claude-sonnet-4-20250514-v1:0\",\n",
    "    tools=[analyze_code, check_style, file_read, shell],\n",
    "    system_prompt=\"You are a senior code reviewer. Analyze code and provide constructive feedback.\"\n",
    ")\n",
    "\n",
    "print(\"👨💻 Code review agent created successfully!\")"
   ]
  },
  {
   "cell_type": "markdown",
   "metadata": {},
   "source": [
    "## Sample Code Review\n",
    "\n",
    "Let's test our agent with a sample piece of code:"
   ]
  },
  {
   "cell_type": "code",
   "execution_count": null,
   "metadata": {},
   "outputs": [],
   "source": [
    "# Sample code to review\n",
    "sample_code = \"\"\"\n",
    "def calculate_total(items):\n",
    "    total = 0\n",
    "    for item in items:\n",
    "        if item.get('price', 0) > 0:\n",
    "            total += item['price'] * item.get('quantity', 1)\n",
    "    return total\n",
    "\n",
    "class ShoppingCart:\n",
    "    def __init__(self):\n",
    "        self.items = []\n",
    "    \n",
    "    def add_item(self, name, price, quantity=1):\n",
    "        self.items.append({'name': name, 'price': price, 'quantity': quantity})\n",
    "\"\"\"\n",
    "\n",
    "print(\"📝 Code to review:\")\n",
    "print(sample_code)\n",
    "\n",
    "print(\"\\n💬 Asking agent to review the code...\")\n",
    "response = code_review_agent(f\"Please review this Python code and provide feedback:\\n{sample_code}\")"
   ]
  },
  {
   "cell_type": "markdown",
   "metadata": {},
   "source": [
    "## File-Based Code Review\n",
    "\n",
    "Let's review an actual file from our workshop:"
   ]
  },
  {
   "cell_type": "code",
   "execution_count": null,
   "metadata": {},
   "outputs": [],
   "source": [
    "# Create agent with file reading capabilities\n",
    "file_review_agent = Agent(\n",
    "    model=\"us.anthropic.claude-sonnet-4-20250514-v1:0\",\n",
    "    tools=[file_read, shell, analyze_code, check_style],\n",
    "    system_prompt=\"You are a senior code reviewer with file reading capabilities. Analyze code and provide constructive feedback.\"\n",
    ")\n",
    "\n",
    "# Review a workshop file\n",
    "file_path = \"/Users/lshubh/Documents/work/aws/strands-agents/strands-agents-workshop/scripts/04_memory_agents.py\"\n",
    "print(f\"📁 Reviewing file: {file_path}\")\n",
    "\n",
    "response = file_review_agent(f\"Please read and review the code from file {file_path} and provide feedback.\")"
   ]
  },
  {
   "cell_type": "markdown",
   "metadata": {},
   "source": [
    "## Advanced Tool Combinations\n",
    "\n",
    "Let's demonstrate how tools can work together:"
   ]
  },
  {
   "cell_type": "code",
   "execution_count": null,
   "metadata": {},
   "outputs": [],
   "source": [
    "# Test the individual tools first\n",
    "print(\"🔍 Testing individual tools:\")\n",
    "\n",
    "# Test analyze_code tool\n",
    "analysis_result = analyze_code(sample_code)\n",
    "print(f\"\\n📊 Code Analysis: {analysis_result}\")\n",
    "\n",
    "# Test check_style tool\n",
    "style_result = check_style(sample_code)\n",
    "print(f\"🎨 Style Check: {style_result}\")\n",
    "\n",
    "print(\"\\n✅ Tools working correctly!\")"
   ]
  },
  {
   "cell_type": "markdown",
   "metadata": {},
   "source": [
    "## Real-World Application Patterns\n",
    "\n",
    "Here are some practical patterns for using advanced agents:"
   ]
  },
  {
   "cell_type": "code",
   "execution_count": null,
   "metadata": {},
   "outputs": [],
   "source": [
    "# Pattern 1: Comprehensive Code Review\n",
    "comprehensive_agent = Agent(\n",
    "    model=\"us.anthropic.claude-sonnet-4-20250514-v1:0\",\n",
    "    tools=[analyze_code, check_style, file_read],\n",
    "    system_prompt=\"\"\"\n",
    "    You are a comprehensive code reviewer. For each code review:\n",
    "    1. Use analyze_code to get metrics\n",
    "    2. Use check_style to find style issues\n",
    "    3. Provide specific improvement suggestions\n",
    "    4. Rate the code quality (1-10)\n",
    "    5. Highlight both strengths and areas for improvement\n",
    "    \"\"\"\n",
    ")\n",
    "\n",
    "print(\"🎯 Comprehensive review:\")\n",
    "comprehensive_response = comprehensive_agent(f\"Perform a comprehensive review of this code:\\n{sample_code}\")"
   ]
  },
  {
   "cell_type": "markdown",
   "metadata": {},
   "source": [
    "## Best Practices for Advanced Agents\n",
    "\n",
    "### Tool Design Principles:\n",
    "- **Single Responsibility**: Each tool should do one thing well\n",
    "- **Clear Documentation**: Use descriptive docstrings\n",
    "- **Error Handling**: Handle edge cases gracefully\n",
    "- **Type Hints**: Use proper type annotations\n",
    "\n",
    "### Agent Configuration:\n",
    "- **Specific Prompts**: Tailor system prompts to the task\n",
    "- **Tool Selection**: Only include relevant tools\n",
    "- **Model Choice**: Match model capability to task complexity\n",
    "- **Testing**: Validate agent behavior with sample inputs\n",
    "\n",
    "### Production Considerations:\n",
    "- **Security**: Validate all inputs and outputs\n",
    "- **Performance**: Monitor tool execution times\n",
    "- **Reliability**: Implement retry mechanisms\n",
    "- **Monitoring**: Log agent interactions for debugging"
   ]
  },
  {
   "cell_type": "markdown",
   "metadata": {},
   "source": [
    "## Summary\n",
    "\n",
    "You've learned how to:\n",
    "\n",
    "✅ **Create custom tools** with the `@tool` decorator  \n",
    "✅ **Build specialized agents** for specific tasks  \n",
    "✅ **Combine multiple tools** for comprehensive workflows  \n",
    "✅ **Apply real-world patterns** for production use  \n",
    "\n",
    "### 🔑 Key Takeaways:\n",
    "- **Custom tools extend agent capabilities** beyond text generation\n",
    "- **Specialized agents** perform better than general-purpose ones\n",
    "- **Tool combinations** create powerful workflows\n",
    "- **System prompts** guide agent behavior effectively\n",
    "\n",
    "### 🚀 Next Steps:\n",
    "- Create tools for your specific domain\n",
    "- Build agents for your use cases\n",
    "- Experiment with different tool combinations\n",
    "- Consider production deployment patterns\n",
    "\n",
    "**Continue to notebook 06 for multi-agent systems! 🤖**"
   ]
  }
 ],
 "metadata": {
  "kernelspec": {
   "display_name": "Python 3 (ipykernel)",
   "language": "python",
   "name": "python3"
  },
  "language_info": {
   "codemirror_mode": {
    "name": "ipython",
    "version": 3
   },
   "file_extension": ".py",
   "mimetype": "text/x-python",
   "name": "python",
   "nbconvert_exporter": "python",
   "pygments_lexer": "ipython3",
   "version": "3.13.3"
  }
 },
 "nbformat": 4,
 "nbformat_minor": 4
}
