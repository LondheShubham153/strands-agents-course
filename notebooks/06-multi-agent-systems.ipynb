{
 "cells": [
  {
   "cell_type": "markdown",
   "metadata": {},
   "source": [
    "# 🤖 Multi-Agent Systems with Strands\n",
    "\n",
    "This notebook demonstrates how to create and orchestrate multiple AI agents working together to solve complex problems.\n",
    "\n",
    "## 📋 What You'll Learn\n",
    "\n",
    "- Creating swarm-based agent systems for dynamic coordination\n",
    "- Building graph-based agent workflows with structured dependencies\n",
    "- Agent coordination and communication patterns\n",
    "- Real-world multi-agent applications\n",
    "\n",
    "## 🎯 Prerequisites\n",
    "\n",
    "- Complete notebooks 01-05 for foundational knowledge\n",
    "- Understanding of agent tools and memory systems\n",
    "- Familiarity with workflow orchestration concepts"
   ]
  },
  {
   "cell_type": "markdown",
   "metadata": {},
   "source": [
    "## 📦 Installation and Setup"
   ]
  },
  {
   "cell_type": "code",
   "execution_count": null,
   "metadata": {},
   "outputs": [],
   "source": [
    "!pip install -r requirements.txt"
   ]
  },
  {
   "cell_type": "markdown",
   "metadata": {},
   "source": [
    "## 🔧 Configuration and Imports"
   ]
  },
  {
   "cell_type": "code",
   "execution_count": null,
   "metadata": {},
   "outputs": [],
   "source": [
    "import os\n",
    "from strands import Agent\n",
    "from strands_tools import swarm\n",
    "from strands.multiagent import GraphBuilder\n",
    "import logging\n",
    "\n",
    "# Configure environment\n",
    "os.environ.setdefault(\"AWS_REGION\", \"us-west-2\")\n",
    "logging.getLogger(\"strands\").setLevel(logging.WARNING)\n",
    "\n",
    "# Optional: Set MEM0 API key for memory features (get your free key from https://mem0.ai)\n",
    "MEM0_API_KEY = os.getenv(\"MEM0_API_KEY\")\n",
    "if MEM0_API_KEY:\n",
    "    os.environ[\"MEM0_API_KEY\"] = MEM0_API_KEY\n",
    "\n",
    "print(\"🤖 Multi-agent systems setup complete!\")"
   ]
  },
  {
   "cell_type": "markdown",
   "metadata": {},
   "source": [
    "## Part 1: Swarm-Based Agents\n",
    "\n",
    "Swarm agents work together by coordinating through a central orchestrator that can dynamically route tasks to specialized agents.\n",
    "\n",
    "### Key Benefits:\n",
    "- **Dynamic coordination** - agents adapt to task complexity\n",
    "- **Automatic specialization** - swarm creates experts as needed\n",
    "- **Scalable processing** - handles varying workloads\n",
    "- **Intelligent routing** - tasks go to best-suited agents"
   ]
  },
  {
   "cell_type": "code",
   "execution_count": null,
   "metadata": {},
   "outputs": [],
   "source": [
    "# Create swarm coordinator\n",
    "swarm_coordinator = Agent(tools=[swarm])\n",
    "\n",
    "print(\"🐝 Swarm-Based Multi-Agent Analysis:\")\n",
    "swarm_result = swarm_coordinator(\"Use 3 agents to analyze AI impact on DevOps jobs\")\n",
    "\n",
    "print(\"\\n✅ Swarm analysis complete!\")\n",
    "print(\"💡 Notice: The swarm automatically created specialized agents for this task\")"
   ]
  },
  {
   "cell_type": "markdown",
   "metadata": {},
   "source": [
    "## Part 2: Graph-Based Agent Systems\n",
    "\n",
    "Graph-based agents work in a structured workflow where agents are nodes and their dependencies are edges.\n",
    "\n",
    "### Key Concepts:\n",
    "- **Nodes**: Individual agents with specific roles\n",
    "- **Edges**: Dependencies and data flow between agents\n",
    "- **Entry Points**: Starting agents in the workflow\n",
    "- **Execution Order**: Determined by graph topology"
   ]
  },
  {
   "cell_type": "markdown",
   "metadata": {},
   "source": [
    "### Creating Specialized Agents"
   ]
  },
  {
   "cell_type": "code",
   "execution_count": null,
   "metadata": {},
   "outputs": [],
   "source": [
    "# Create specialized agents for different roles\n",
    "research_lead = Agent(\n",
    "    name=\"lead\", \n",
    "    system_prompt=\"Research leader. Coordinate analysis and provide comprehensive insights.\"\n",
    ")\n",
    "\n",
    "domain_expert = Agent(\n",
    "    name=\"expert\", \n",
    "    system_prompt=\"Domain expert. Provide technical insights and detailed analysis.\"\n",
    ")\n",
    "\n",
    "print(\"👥 Specialized agents created:\")\n",
    "print(\"- Research Lead: Coordinates and provides comprehensive insights\")\n",
    "print(\"- Domain Expert: Provides technical insights and detailed analysis\")"
   ]
  },
  {
   "cell_type": "markdown",
   "metadata": {},
   "source": [
    "### Building the Agent Graph"
   ]
  },
  {
   "cell_type": "code",
   "execution_count": null,
   "metadata": {},
   "outputs": [],
   "source": [
    "# Build the graph with dependencies\n",
    "builder = GraphBuilder()\n",
    "\n",
    "# Add nodes (agents) to the graph\n",
    "builder.add_node(research_lead, \"lead\")\n",
    "builder.add_node(domain_expert, \"expert\")\n",
    "\n",
    "# Add edges (dependencies) - lead coordinates expert\n",
    "builder.add_edge(\"lead\", \"expert\")\n",
    "\n",
    "# Set entry point (starting agent)\n",
    "builder.set_entry_point(\"lead\")\n",
    "\n",
    "# Build the executable graph\n",
    "agent_graph = builder.build()\n",
    "\n",
    "print(\"🕸️ Agent graph built successfully!\")\n",
    "print(\"📊 Graph structure:\")\n",
    "print(\"   Entry point: lead\")\n",
    "print(\"   Flow: lead → expert\")\n",
    "print(\"   Dependencies: Research lead coordinates domain expert\")"
   ]
  },
  {
   "cell_type": "markdown",
   "metadata": {},
   "source": [
    "### Executing the Graph Workflow"
   ]
  },
  {
   "cell_type": "code",
   "execution_count": null,
   "metadata": {},
   "outputs": [],
   "source": [
    "# Execute the graph on a complex analysis task\n",
    "analysis_query = \"Evaluate microservices architecture migration for a legacy application\"\n",
    "\n",
    "print(f\"🔍 Analysis Query: {analysis_query}\")\n",
    "print(\"\\n⚡ Executing multi-agent workflow...\")\n",
    "\n",
    "graph_result = agent_graph(analysis_query)\n",
    "\n",
    "print(\"\\n📋 Workflow Results:\")\n",
    "print(f\"   Status: {graph_result.status}\")\n",
    "print(f\"   Execution order: {[node.node_id for node in graph_result.execution_order]}\")\n",
    "print(f\"   Agents involved: {len(graph_result.execution_order)}\")\n",
    "\n",
    "print(\"\\n✅ Graph workflow complete!\")"
   ]
  },
  {
   "cell_type": "markdown",
   "metadata": {},
   "source": [
    "## Part 3: Comparing Multi-Agent Approaches\n",
    "\n",
    "Let's compare the two approaches with the same task:"
   ]
  },
  {
   "cell_type": "code",
   "execution_count": null,
   "metadata": {},
   "outputs": [],
   "source": [
    "# Test both approaches with the same complex task\n",
    "complex_task = \"Analyze the pros and cons of adopting Kubernetes for a mid-size company\"\n",
    "\n",
    "print(f\"🎯 Complex Task: {complex_task}\")\n",
    "print(\"\\n\" + \"=\"*60)\n",
    "\n",
    "# Swarm approach\n",
    "print(\"🐝 SWARM APPROACH:\")\n",
    "swarm_analysis = swarm_coordinator(f\"Use multiple specialized agents to {complex_task.lower()}\")\n",
    "\n",
    "print(\"\\n\" + \"=\"*60)\n",
    "\n",
    "# Graph approach\n",
    "print(\"🕸️ GRAPH APPROACH:\")\n",
    "graph_analysis = agent_graph(complex_task)\n",
    "\n",
    "print(f\"\\n📊 Graph execution: {[n.node_id for n in graph_analysis.execution_order]}\")\n",
    "print(\"\\n✅ Both approaches completed successfully!\")"
   ]
  },
  {
   "cell_type": "markdown",
   "metadata": {},
   "source": [
    "## 🎯 Multi-Agent Patterns Summary\n",
    "\n",
    "### 🐝 Swarm-Based Agents:\n",
    "**Best for:**\n",
    "- Dynamic, unpredictable tasks\n",
    "- Varying complexity requirements\n",
    "- Automatic agent specialization\n",
    "- Flexible team composition\n",
    "\n",
    "**Characteristics:**\n",
    "- Self-organizing\n",
    "- Adaptive to task complexity\n",
    "- Minimal setup required\n",
    "- Intelligent task distribution\n",
    "\n",
    "### 🕸️ Graph-Based Agents:\n",
    "**Best for:**\n",
    "- Structured, predictable workflows\n",
    "- Clear role definitions\n",
    "- Controlled execution order\n",
    "- Repeatable processes\n",
    "\n",
    "**Characteristics:**\n",
    "- Explicit dependencies\n",
    "- Predictable execution\n",
    "- Clear agent roles\n",
    "- Structured coordination\n",
    "\n",
    "### 🚀 When to Use Each:\n",
    "\n",
    "| Scenario | Swarm | Graph |\n",
    "|----------|-------|-------|\n",
    "| **Research & Analysis** | ✅ Excellent | ✅ Good |\n",
    "| **Code Review Process** | ⚠️ Okay | ✅ Excellent |\n",
    "| **Creative Brainstorming** | ✅ Excellent | ⚠️ Limited |\n",
    "| **Compliance Workflows** | ⚠️ Limited | ✅ Excellent |\n",
    "| **Ad-hoc Problem Solving** | ✅ Excellent | ⚠️ Okay |"
   ]
  },
  {
   "cell_type": "markdown",
   "metadata": {},
   "source": [
    "## 📚 Summary\n",
    "\n",
    "You've learned how to:\n",
    "\n",
    "✅ **Create swarm-based agents** for dynamic task coordination  \n",
    "✅ **Build graph-based workflows** with structured dependencies  \n",
    "✅ **Compare different approaches** for various use cases  \n",
    "✅ **Execute multi-agent systems** effectively  \n",
    "\n",
    "### 🔑 Key Takeaways:\n",
    "- **Swarms excel at dynamic, adaptive tasks**\n",
    "- **Graphs excel at structured, repeatable workflows**\n",
    "- **Both approaches solve different problems**\n",
    "- **Choose based on your specific requirements**\n",
    "\n",
    "### 🚀 Next Steps:\n",
    "- Experiment with different graph topologies\n",
    "- Try swarms with various task complexities\n",
    "- Build domain-specific agent teams\n",
    "- Combine approaches for hybrid solutions\n",
    "\n",
    "**Continue to notebook 07 for MCP integration! 🔌**"
   ]
  }
 ],
 "metadata": {
  "kernelspec": {
   "display_name": "Python 3 (ipykernel)",
   "language": "python",
   "name": "python3"
  },
  "language_info": {
   "codemirror_mode": {
    "name": "ipython",
    "version": 3
   },
   "file_extension": ".py",
   "mimetype": "text/x-python",
   "name": "python",
   "nbconvert_exporter": "python",
   "pygments_lexer": "ipython3",
   "version": "3.13.3"
  }
 },
 "nbformat": 4,
 "nbformat_minor": 4
}
