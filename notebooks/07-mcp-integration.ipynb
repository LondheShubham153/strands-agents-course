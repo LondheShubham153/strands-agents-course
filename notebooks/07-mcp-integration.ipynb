{
 "cells": [
  {
   "cell_type": "markdown",
   "metadata": {},
   "source": [
    "# 🔌 MCP Integration with Strands Agents\n",
    "\n",
    "This notebook demonstrates how to integrate Model Context Protocol (MCP) servers with Strands Agents, enabling access to external systems and specialized tools.\n",
    "\n",
    "## 📋 What You'll Learn\n",
    "\n",
    "- Understanding Model Context Protocol (MCP) fundamentals\n",
    "- Connecting to MCP servers from Strands Agents\n",
    "- AWS Documentation MCP server integration\n",
    "- Building MCP-enabled agents for external system access\n",
    "\n",
    "## 🎯 Prerequisites\n",
    "\n",
    "- Complete notebooks 01-06 for foundational knowledge\n",
    "- Understanding of agent tools and multi-agent systems\n",
    "- Basic knowledge of external APIs and protocols"
   ]
  },
  {
   "cell_type": "markdown",
   "metadata": {},
   "source": [
    "## 📦 Installation and Setup"
   ]
  },
  {
   "cell_type": "code",
   "execution_count": 1,
   "metadata": {},
   "outputs": [
    {
     "name": "stdout",
     "output_type": "stream",
     "text": []
    }
   ],
   "source": [
    "!pip install -r requirements.txt"
   ]
  },
  {
   "cell_type": "markdown",
   "metadata": {},
   "source": [
    "## 🔧 Configuration and Imports"
   ]
  },
  {
   "cell_type": "code",
   "execution_count": 2,
   "metadata": {},
   "outputs": [
    {
     "name": "stdout",
     "output_type": "stream",
     "text": [
      "🔌 MCP integration setup complete!\n"
     ]
    }
   ],
   "source": [
    "import json\n",
    "import os\n",
    "from pathlib import Path\n",
    "import logging\n",
    "\n",
    "# Configure environment\n",
    "os.environ.setdefault(\"AWS_REGION\", \"us-west-2\")\n",
    "logging.getLogger(\"strands\").setLevel(logging.WARNING)\n",
    "\n",
    "# Optional: Set MEM0 API key for memory features (get your free key from https://mem0.ai)\n",
    "MEM0_API_KEY = os.getenv(\"MEM0_API_KEY\")\n",
    "if MEM0_API_KEY:\n",
    "    os.environ[\"MEM0_API_KEY\"] = MEM0_API_KEY\n",
    "\n",
    "print(\"🔌 MCP integration setup complete!\")"
   ]
  },
  {
   "cell_type": "markdown",
   "metadata": {},
   "source": [
    "## 🌐 Understanding MCP (Model Context Protocol)\n",
    "\n",
    "MCP is a protocol that allows AI agents to connect to external systems and tools:\n",
    "\n",
    "### Key Benefits:\n",
    "- **External System Access**: Connect to databases, APIs, and services\n",
    "- **Specialized Tools**: Access domain-specific functionality\n",
    "- **Real-time Data**: Get up-to-date information from live systems\n",
    "- **Standardized Interface**: Consistent way to connect to different services\n",
    "\n",
    "### Common MCP Servers:\n",
    "- **AWS Documentation**: Search and access AWS docs\n",
    "- **Database Connectors**: Query databases directly\n",
    "- **File Systems**: Access local and remote files\n",
    "- **Web APIs**: Connect to REST and GraphQL services"
   ]
  },
  {
   "cell_type": "markdown",
   "metadata": {},
   "source": [
    "## 📋 MCP Configuration Check\n",
    "\n",
    "Let's check for MCP configuration and handle missing files gracefully:"
   ]
  },
  {
   "cell_type": "markdown",
   "metadata": {},
   "source": [
    "## 🔧 MCP Setup Guide\n",
    "\n",
    "### To Enable Full MCP Functionality:\n",
    "\n",
    "1. **Install MCP Server**:\n",
    "   ```bash\n",
    "   uvx awslabs.aws-documentation-mcp-server@latest\n",
    "   ```\n",
    "\n",
    "2. **Create mcp.json Configuration**:\n",
    "   ```json\n",
    "   {\n",
    "     \"mcpServers\": {\n",
    "       \"awslabs.aws-documentation-mcp-server\": {\n",
    "         \"command\": \"uvx\",\n",
    "         \"args\": [\"awslabs.aws-documentation-mcp-server@latest\"],\n",
    "         \"env\": {\n",
    "           \"FASTMCP_LOG_LEVEL\": \"ERROR\",\n",
    "           \"AWS_DOCUMENTATION_PARTITION\": \"aws\"\n",
    "         },\n",
    "         \"disabled\": false,\n",
    "         \"autoApprove\": []\n",
    "       }\n",
    "     }\n",
    "   }\n",
    "   ```\n",
    "\n",
    "3. **Place Configuration File**:\n",
    "   - Save as `mcp.json` in the scripts directory\n",
    "   - Or in the same directory as this notebook\n",
    "\n",
    "4. **Restart Notebook**:\n",
    "   - Restart the kernel and run all cells\n",
    "   - The agent will automatically detect and use MCP"
   ]
  },
  {
   "cell_type": "code",
   "execution_count": 3,
   "metadata": {},
   "outputs": [
    {
     "name": "stdout",
     "output_type": "stream",
     "text": [
      "✅ Found MCP config at: ../scripts/mcp.json\n",
      "🔌 Available servers: ['awslabs.aws-documentation-mcp-server', 'fetch', 'strands']\n"
     ]
    }
   ],
   "source": [
    "def check_mcp_config():\n",
    "    \"\"\"Check for MCP configuration file\"\"\"\n",
    "    # Try multiple possible locations\n",
    "    possible_paths = [\n",
    "        Path.cwd() / \"mcp.json\",\n",
    "        Path.cwd() / \"scripts\" / \"mcp.json\",\n",
    "        Path(\"../scripts/mcp.json\"),\n",
    "    ]\n",
    "    \n",
    "    for mcp_path in possible_paths:\n",
    "        if mcp_path.exists():\n",
    "            try:\n",
    "                with open(mcp_path, 'r') as f:\n",
    "                    config = json.load(f)\n",
    "                print(f\"✅ Found MCP config at: {mcp_path}\")\n",
    "                servers = config.get(\"mcpServers\", {})\n",
    "                print(f\"🔌 Available servers: {list(servers.keys())}\")\n",
    "                return config\n",
    "            except Exception as e:\n",
    "                print(f\"⚠️ Error reading {mcp_path}: {e}\")\n",
    "    \n",
    "    print(\"❌ No MCP configuration found\")\n",
    "    print(\"💡 This is okay - we'll show you how MCP works conceptually\")\n",
    "    return None\n",
    "\n",
    "# Check for MCP configuration\n",
    "mcp_config = check_mcp_config()"
   ]
  },
  {
   "cell_type": "markdown",
   "metadata": {},
   "source": [
    "## 🏗️ MCP Integration Concepts\n",
    "\n",
    "Even without a live MCP server, let's understand how MCP integration works:"
   ]
  },
  {
   "cell_type": "code",
   "execution_count": 4,
   "metadata": {},
   "outputs": [
    {
     "name": "stdout",
     "output_type": "stream",
     "text": [
      "✅ MCP components imported successfully\n",
      "\n",
      "🔧 MCP Integration Pattern:\n",
      "\n",
      "1. Configure MCP Server (mcp.json)\n",
      "2. Create MCP Client\n",
      "3. Get Tools from MCP Server\n",
      "4. Create Agent with MCP Tools\n",
      "5. Use Agent with External Capabilities\n",
      "\n"
     ]
    }
   ],
   "source": [
    "# Import MCP components (with error handling)\n",
    "try:\n",
    "    from mcp import stdio_client, StdioServerParameters\n",
    "    from strands import Agent\n",
    "    from strands.models import BedrockModel\n",
    "    from strands.tools.mcp import MCPClient\n",
    "    \n",
    "    mcp_available = True\n",
    "    print(\"✅ MCP components imported successfully\")\n",
    "except ImportError as e:\n",
    "    mcp_available = False\n",
    "    print(f\"⚠️ MCP components not available: {e}\")\n",
    "    print(\"💡 This is okay - we'll show the concepts\")\n",
    "\n",
    "# Show MCP integration pattern\n",
    "print(\"\\n🔧 MCP Integration Pattern:\")\n",
    "print(\"\"\"\n",
    "1. Configure MCP Server (mcp.json)\n",
    "2. Create MCP Client\n",
    "3. Get Tools from MCP Server\n",
    "4. Create Agent with MCP Tools\n",
    "5. Use Agent with External Capabilities\n",
    "\"\"\")"
   ]
  },
  {
   "cell_type": "markdown",
   "metadata": {},
   "source": [
    "## 🤖 Conceptual MCP Agent\n",
    "\n",
    "Let's show how an MCP-enabled agent would work:"
   ]
  },
  {
   "cell_type": "code",
   "execution_count": 5,
   "metadata": {},
   "outputs": [
    {
     "name": "stdout",
     "output_type": "stream",
     "text": [
      "🤖 MCP Agent: Full functionality available\n",
      "✅ Real MCP client configured\n"
     ]
    }
   ],
   "source": [
    "class ConceptualMCPAgent:\n",
    "    \"\"\"Demonstrates MCP integration concepts\"\"\"\n",
    "    \n",
    "    def __init__(self):\n",
    "        self.mcp_available = mcp_available and mcp_config is not None\n",
    "        \n",
    "        if self.mcp_available:\n",
    "            print(\"🤖 MCP Agent: Full functionality available\")\n",
    "            self._setup_real_mcp()\n",
    "        else:\n",
    "            print(\"🤖 MCP Agent: Demo mode (showing concepts)\")\n",
    "            self._setup_demo_mode()\n",
    "    \n",
    "    def _setup_real_mcp(self):\n",
    "        \"\"\"Setup real MCP integration\"\"\"\n",
    "        try:\n",
    "            # This would be the real MCP setup\n",
    "            aws_docs_config = mcp_config[\"mcpServers\"][\"awslabs.aws-documentation-mcp-server\"]\n",
    "            \n",
    "            self.mcp_client = MCPClient(lambda: stdio_client(\n",
    "                StdioServerParameters(\n",
    "                    command=aws_docs_config[\"command\"],\n",
    "                    args=aws_docs_config[\"args\"],\n",
    "                    env=aws_docs_config.get(\"env\", {})\n",
    "                )\n",
    "            ))\n",
    "            \n",
    "            self.model = BedrockModel(\n",
    "                model_id=\"us.anthropic.claude-sonnet-4-20250514-v1:0\",\n",
    "                region_name=\"us-west-2\",\n",
    "                temperature=0.3,\n",
    "            )\n",
    "            \n",
    "            print(\"✅ Real MCP client configured\")\n",
    "            \n",
    "        except Exception as e:\n",
    "            print(f\"⚠️ MCP setup failed: {e}\")\n",
    "            self.mcp_available = False\n",
    "            self._setup_demo_mode()\n",
    "    \n",
    "    def _setup_demo_mode(self):\n",
    "        \"\"\"Setup demo mode without real MCP\"\"\"\n",
    "        self.demo_responses = {\n",
    "            \"s3\": \"Amazon S3 is a scalable object storage service that offers industry-leading durability, availability, and performance.\",\n",
    "            \"lambda\": \"AWS Lambda is a serverless compute service that runs code in response to events and automatically manages compute resources.\",\n",
    "            \"ecs\": \"Amazon ECS is a container orchestration service that supports Docker containers and allows you to run applications on a managed cluster.\"\n",
    "        }\n",
    "        print(\"✅ Demo mode configured with sample responses\")\n",
    "    \n",
    "    def query(self, user_input: str) -> str:\n",
    "        \"\"\"Process user query (real MCP or demo)\"\"\"\n",
    "        if self.mcp_available:\n",
    "            return self._real_mcp_query(user_input)\n",
    "        else:\n",
    "            return self._demo_query(user_input)\n",
    "    \n",
    "    def _real_mcp_query(self, user_input: str) -> str:\n",
    "        \"\"\"Real MCP query processing\"\"\"\n",
    "        try:\n",
    "            with self.mcp_client:\n",
    "                tools = self.mcp_client.list_tools_sync()\n",
    "                \n",
    "                agent = Agent(\n",
    "                    model=self.model,\n",
    "                    system_prompt=\"You are an AWS Documentation expert. Provide concise, practical answers.\",\n",
    "                    tools=tools\n",
    "                )\n",
    "                \n",
    "                return agent(user_input)\n",
    "        except Exception as e:\n",
    "            return f\"❌ MCP query failed: {e}\"\n",
    "    \n",
    "    def _demo_query(self, user_input: str) -> str:\n",
    "        \"\"\"Demo query processing\"\"\"\n",
    "        user_lower = user_input.lower()\n",
    "        \n",
    "        for service, response in self.demo_responses.items():\n",
    "            if service in user_lower:\n",
    "                return f\"📚 [DEMO] {response}\"\n",
    "        \n",
    "        return \"📚 [DEMO] This would query the AWS Documentation MCP server for real-time information.\"\n",
    "\n",
    "# Create the conceptual MCP agent\n",
    "mcp_agent = ConceptualMCPAgent()"
   ]
  },
  {
   "cell_type": "markdown",
   "metadata": {},
   "source": [
    "## 🧪 Testing MCP Concepts\n",
    "\n",
    "Let's test our MCP agent (real or demo mode):"
   ]
  },
  {
   "cell_type": "code",
   "execution_count": null,
   "metadata": {},
   "outputs": [
    {
     "name": "stdout",
     "output_type": "stream",
     "text": [
      "🔍 Testing MCP Agent with sample queries:\n",
      "==================================================\n",
      "\n",
      "1. Query: What is Amazon S3?\n",
      "I'll search for information about Amazon S3 to provide you with a comprehensive overview.\n",
      "Tool #1: search_documentation\n",
      "Perfect! Let me get the detailed information about Amazon S3 from the main documentation page.\n",
      "Tool #2: read_documentation\n",
      "Based on the AWS documentation, here's what Amazon S3 is:\n",
      "\n",
      "## Amazon S3 (Simple Storage Service)\n",
      "\n",
      "**Amazon S3** is an **object storage service** that provides industry-leading scalability, data availability, security, and performance. It's designed to store and protect any amount of data for various use cases.\n",
      "\n",
      "### Key Characteristics:\n",
      "\n",
      "- **Object Storage**: Stores files as objects in containers called \"buckets\"\n",
      "- **Scalable**: Can handle data from small applications to massive enterprise workloads\n",
      "- **Highly Available**: Built for 99.999999999% (11 9's) durability\n",
      "- **Secure**: Multiple layers of security and access controls\n",
      "\n",
      "### Common Use Cases:\n",
      "\n",
      "- **Data Lakes** - Central repository for structured and unstructured data\n",
      "- **Websites** - Static website hosting and content distribution\n",
      "- **Mobile Applications** - Backend storage for mobile apps\n",
      "- **Backup and Restore** - Reliable data backup solutions\n",
      "- **Archive** - Long-term data archiving\n",
      "- **Enterprise Applications** - Storage for business applications\n",
      "- **IoT Devices** - Storage for Internet of Things data\n",
      "- **Big Data Analytics** - Data storage for analytics workloads\n",
      "\n",
      "### Key Features:\n",
      "\n",
      "1. **Multiple Storage Classes** - Different cost and performance tiers (S3 Standard, S3 Express One Zone, S3 Glacier, etc.)\n",
      "2. **Storage Management** - Lifecycle policies, replication, batch operations\n",
      "3. **Security & Access Control** - IAM integration, bucket policies, encryption\n",
      "4. **High Performance** - S3 Express One Zone offers single-digit millisecond latency\n",
      "\n",
      "### How It Works:\n",
      "\n",
      "S3 uses a simple concept of **buckets** (containers) and **objects** (files). You create buckets in specific AWS regions and upload objects to them. Each object can be accessed via a unique URL and can range from 0 bytes to 5 TB in size.\n",
      "\n",
      "Amazon S3 is one of AWS's foundational services and is widely used as the backbone for many cloud applications and data storage needs.\n",
      "2. Query: How does AWS Lambda work?\n"
     ]
    }
   ],
   "source": [
    "# Test queries\n",
    "test_queries = [\n",
    "    \"What is Amazon S3?\",\n",
    "    \"How does AWS Lambda work?\",\n",
    "    \"Tell me about Amazon ECS\",\n",
    "    \"What are EC2 instance types?\"\n",
    "]\n",
    "\n",
    "print(\"🔍 Testing MCP Agent with sample queries:\")\n",
    "print(\"=\" * 50)\n",
    "\n",
    "for i, query in enumerate(test_queries, 1):\n",
    "    print(f\"\\n{i}. Query: {query}\")\n",
    "    response = mcp_agent.query(query)\n",
    "\n",
    "print(\"\\n✅ MCP concept testing complete!\")"
   ]
  },
  {
   "cell_type": "markdown",
   "metadata": {},
   "source": [
    "## 🚀 MCP Benefits and Use Cases\n",
    "\n",
    "### Real-World Applications:\n",
    "\n",
    "1. **Documentation Assistant**:\n",
    "   - Query AWS docs in real-time\n",
    "   - Get up-to-date service information\n",
    "   - Find best practices and examples\n",
    "\n",
    "2. **Database Integration**:\n",
    "   - Query databases directly from agents\n",
    "   - Get real-time data for decisions\n",
    "   - Update records based on conversations\n",
    "\n",
    "3. **File System Access**:\n",
    "   - Read and write files\n",
    "   - Process documents and data\n",
    "   - Manage file operations\n",
    "\n",
    "4. **API Integration**:\n",
    "   - Connect to REST APIs\n",
    "   - Fetch external data\n",
    "   - Integrate with third-party services\n",
    "\n",
    "### Production Considerations:\n",
    "- **Security**: Secure MCP server connections and authentication\n",
    "- **Performance**: Monitor MCP call latency and optimize\n",
    "- **Reliability**: Implement retry mechanisms and error handling\n",
    "- **Monitoring**: Log MCP interactions for debugging and analysis"
   ]
  },
  {
   "cell_type": "markdown",
   "metadata": {},
   "source": [
    "## 📚 Summary\n",
    "\n",
    "You've learned about:\n",
    "\n",
    "✅ **MCP fundamentals** and protocol benefits  \n",
    "✅ **Configuration patterns** for MCP servers  \n",
    "✅ **Integration concepts** with Strands Agents  \n",
    "✅ **Real-world applications** and use cases  \n",
    "\n",
    "### 🔑 Key Takeaways:\n",
    "- **MCP enables external system access** for agents\n",
    "- **Configuration is crucial** for successful connections\n",
    "- **Error handling is essential** for robust applications\n",
    "- **Multiple servers can be combined** for comprehensive toolsets\n",
    "\n",
    "### 🚀 Next Steps:\n",
    "- Set up MCP configuration to enable full functionality\n",
    "- Explore other MCP servers (database, file system, web APIs)\n",
    "- Build custom MCP servers for your specific needs\n",
    "- Integrate MCP with multi-agent systems from notebook 06\n",
    "\n",
    "### 🎯 Production Deployment:\n",
    "- Implement proper authentication and security\n",
    "- Monitor MCP server performance and availability\n",
    "- Set up logging and error tracking\n",
    "- Plan for scaling and load balancing\n",
    "\n",
    "**Congratulations! You've completed the Strands Agents Workshop! 🎉**\n",
    "\n",
    "You now have the knowledge to build:\n",
    "- Basic and advanced agents\n",
    "- Custom tools and integrations\n",
    "- Multi-agent systems\n",
    "- External system connections via MCP\n",
    "\n",
    "**Ready to build amazing AI applications! 🚀**"
   ]
  }
 ],
 "metadata": {
  "kernelspec": {
   "display_name": "Python 3 (ipykernel)",
   "language": "python",
   "name": "python3"
  },
  "language_info": {
   "codemirror_mode": {
    "name": "ipython",
    "version": 3
   },
   "file_extension": ".py",
   "mimetype": "text/x-python",
   "name": "python",
   "nbconvert_exporter": "python",
   "pygments_lexer": "ipython3",
   "version": "3.13.3"
  }
 },
 "nbformat": 4,
 "nbformat_minor": 4
}
