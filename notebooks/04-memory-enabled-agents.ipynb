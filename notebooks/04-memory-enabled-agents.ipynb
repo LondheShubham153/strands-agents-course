{
 "cells": [
  {
   "cell_type": "markdown",
   "metadata": {},
   "source": [
    "# 🧠 Memory-Enabled Agents with Strands\n",
    "\n",
    "This notebook demonstrates how to create agents with persistent memory using Mem0, enabling them to remember user preferences and conversation history.\n",
    "\n",
    "## 📋 What You'll Learn\n",
    "\n",
    "- Setting up persistent memory with Mem0\n",
    "- Storing and retrieving user information\n",
    "- Building conversational agents with context\n",
    "- Memory management best practices\n",
    "\n",
    "## 🎯 Prerequisites\n",
    "\n",
    "- Basic understanding of Strands agents (complete notebook 01 first)\n",
    "- Familiarity with tools (complete notebook 02)\n",
    "- Optional: Mem0 API key for cloud memory (get from [mem0.ai](https://mem0.ai))"
   ]
  },
  {
   "cell_type": "markdown",
   "metadata": {},
   "source": [
    "## 📦 Installation and Setup"
   ]
  },
  {
   "cell_type": "code",
   "execution_count": 6,
   "metadata": {},
   "outputs": [
    {
     "name": "stdout",
     "output_type": "stream",
     "text": []
    }
   ],
   "source": [
    "!pip install -r requirements.txt"
   ]
  },
  {
   "cell_type": "markdown",
   "metadata": {},
   "source": [
    "## 🔧 Configuration and Imports"
   ]
  },
  {
   "cell_type": "code",
   "execution_count": 7,
   "metadata": {},
   "outputs": [
    {
     "name": "stdout",
     "output_type": "stream",
     "text": [
      "Memory agents setup complete!\n"
     ]
    }
   ],
   "source": [
    "import os\n",
    "from strands import Agent\n",
    "from strands_tools import mem0_memory\n",
    "import logging\n",
    "\n",
    "# Configure logging for cleaner output\n",
    "logging.getLogger(\"strands\").setLevel(logging.WARNING)\n",
    "\n",
    "# Optional: Set MEM0 API key for memory features (get your free key from https://mem0.ai)\n",
    "MEM0_API_KEY = os.getenv(\"MEM0_API_KEY\")\n",
    "if MEM0_API_KEY:\n",
    "    os.environ[\"MEM0_API_KEY\"] = MEM0_API_KEY\n",
    "\n",
    "print(\"Memory agents setup complete!\")"
   ]
  },
  {
   "cell_type": "markdown",
   "metadata": {},
   "source": [
    "## 🧠 Creating Memory-Enabled Agents\n",
    "\n",
    "Let's create an agent that can remember information across conversations:"
   ]
  },
  {
   "cell_type": "code",
   "execution_count": 8,
   "metadata": {},
   "outputs": [
    {
     "name": "stdout",
     "output_type": "stream",
     "text": [
      "✅ MEM0_API_KEY found - using real memory\n",
      "🔧 Using: Real Mem0 memory\n"
     ]
    }
   ],
   "source": [
    "# Check if Mem0 API key is available\n",
    "mem0_key = os.getenv(\"MEM0_API_KEY\")\n",
    "\n",
    "if mem0_key:\n",
    "    print(\"✅ MEM0_API_KEY found - using real memory\")\n",
    "    try:\n",
    "        agent = Agent(\n",
    "            model=\"us.anthropic.claude-sonnet-4-20250514-v1:0\",\n",
    "            tools=[mem0_memory],\n",
    "        )\n",
    "        memory_type = \"Real Mem0 memory\"\n",
    "    except Exception as e:\n",
    "        print(f\"⚠️ Mem0 error: {e}\")\n",
    "        agent = None\n",
    "        memory_type = \"No memory (Mem0 error)\"\n",
    "else:\n",
    "    print(\"⚠️ No MEM0_API_KEY provided\")\n",
    "    agent = None\n",
    "    memory_type = \"No memory (no API key)\"\n",
    "\n",
    "print(f\"🔧 Using: {memory_type}\")"
   ]
  },
  {
   "cell_type": "markdown",
   "metadata": {},
   "source": [
    "## 💬 Testing Memory Functionality\n",
    "\n",
    "Let's test if our agent can remember information across conversations:"
   ]
  },
  {
   "cell_type": "code",
   "execution_count": 9,
   "metadata": {},
   "outputs": [
    {
     "name": "stdout",
     "output_type": "stream",
     "text": [
      "💬 Conversation 1:\n",
      "Hello Shubham! Nice to meet you! It's great to hear that you're passionate about DevOps & Cloud - those are such exciting and rapidly evolving fields with lots of opportunities.\n",
      "\n",
      "Let me store this information about you so I can remember it for our future conversations.\n",
      "Tool #1: mem0_memory\n"
     ]
    },
    {
     "data": {
      "text/html": [
       "<pre style=\"white-space:pre;overflow-x:auto;line-height:normal;font-family:Menlo,'DejaVu Sans Mono',consolas,'Courier New',monospace\"><span style=\"color: #008000; text-decoration-color: #008000\">╭──────────────────────────────────────────── </span><span style=\"color: #008000; text-decoration-color: #008000; font-weight: bold\">Memory for user Shubham</span><span style=\"color: #008000; text-decoration-color: #008000\"> ────────────────────────────────────────────╮</span>\n",
       "<span style=\"color: #008000; text-decoration-color: #008000\">│</span> User's name is Shubham and he loves DevOps &amp; Cloud technologies                                                 <span style=\"color: #008000; text-decoration-color: #008000\">│</span>\n",
       "<span style=\"color: #008000; text-decoration-color: #008000\">╰─────────────────────────────────────────────────────────────────────────────────────────────────────────────────╯</span>\n",
       "</pre>\n"
      ],
      "text/plain": [
       "\u001b[32m╭─\u001b[0m\u001b[32m───────────────────────────────────────────\u001b[0m\u001b[32m \u001b[0m\u001b[1;32mMemory for user Shubham\u001b[0m\u001b[32m \u001b[0m\u001b[32m───────────────────────────────────────────\u001b[0m\u001b[32m─╮\u001b[0m\n",
       "\u001b[32m│\u001b[0m User's name is Shubham and he loves DevOps & Cloud technologies                                                 \u001b[32m│\u001b[0m\n",
       "\u001b[32m╰─────────────────────────────────────────────────────────────────────────────────────────────────────────────────╯\u001b[0m\n"
      ]
     },
     "metadata": {},
     "output_type": "display_data"
    },
    {
     "name": "stderr",
     "output_type": "stream",
     "text": [
      "/Users/lshubh/Documents/work/aws/strands-agents/strands-agents-workshop/venv/lib/python3.13/site-packages/mem0/client/utils.py:21: DeprecationWarning: output_format='v1.0' is deprecated therefore setting it to 'v1.1' by default. Check out the docs for more information: https://docs.mem0.ai/platform/quickstart#4-1-create-memories\n",
      "  return func(*args, **kwargs)\n"
     ]
    },
    {
     "name": "stdout",
     "output_type": "stream",
     "text": [
      "Great! I've stored that information. What aspects of DevOps and Cloud are you most interested in or working with currently? Are you focusing on any particular cloud platforms like AWS, Azure, or GCP? Or maybe specific DevOps tools and practices?\n",
      "💬 Conversation 2:\n",
      "\n",
      "Tool #2: mem0_memory\n"
     ]
    },
    {
     "data": {
      "text/html": [
       "<pre style=\"white-space:pre;overflow-x:auto;line-height:normal;font-family:Menlo,'DejaVu Sans Mono',consolas,'Courier New',monospace\"><span style=\"color: #008000; text-decoration-color: #008000\">╭───────────────────────────────────────────────── </span><span style=\"color: #008000; text-decoration-color: #008000; font-weight: bold\">Memories List</span><span style=\"color: #008000; text-decoration-color: #008000\"> ─────────────────────────────────────────────────╮</span>\n",
       "<span style=\"color: #008000; text-decoration-color: #008000\">│</span> <span style=\"font-style: italic\">                                                   Memories                                                    </span> <span style=\"color: #008000; text-decoration-color: #008000\">│</span>\n",
       "<span style=\"color: #008000; text-decoration-color: #008000\">│</span> ┏━━━━━━━━━━━━━━━┳━━━━━━━━━━━━━━━━━━━━━━━━━━━━━━━━━━━━━━━━━━━━━━━━━━━━┳━━━━━━━━━━━━━━┳━━━━━━━━━┳━━━━━━━━━━━━━━━┓ <span style=\"color: #008000; text-decoration-color: #008000\">│</span>\n",
       "<span style=\"color: #008000; text-decoration-color: #008000\">│</span> ┃<span style=\"color: #800080; text-decoration-color: #800080; font-weight: bold\"> ID            </span>┃<span style=\"color: #800080; text-decoration-color: #800080; font-weight: bold\"> Memory                                             </span>┃<span style=\"color: #800080; text-decoration-color: #800080; font-weight: bold\"> Created At   </span>┃<span style=\"color: #800080; text-decoration-color: #800080; font-weight: bold\"> User ID </span>┃<span style=\"color: #800080; text-decoration-color: #800080; font-weight: bold\"> Metadata      </span>┃ <span style=\"color: #008000; text-decoration-color: #008000\">│</span>\n",
       "<span style=\"color: #008000; text-decoration-color: #008000\">│</span> ┡━━━━━━━━━━━━━━━╇━━━━━━━━━━━━━━━━━━━━━━━━━━━━━━━━━━━━━━━━━━━━━━━━━━━━╇━━━━━━━━━━━━━━╇━━━━━━━━━╇━━━━━━━━━━━━━━━┩ <span style=\"color: #008000; text-decoration-color: #008000\">│</span>\n",
       "<span style=\"color: #008000; text-decoration-color: #008000\">│</span> │<span style=\"color: #008080; text-decoration-color: #008080\"> e40355e2-ea2… </span>│<span style=\"color: #808000; text-decoration-color: #808000\"> Loves DevOps &amp; Cloud technologies                  </span>│<span style=\"color: #000080; text-decoration-color: #000080\"> 2025-08-17T… </span>│<span style=\"color: #008000; text-decoration-color: #008000\"> Shubham </span>│<span style=\"color: #800080; text-decoration-color: #800080\"> {             </span>│ <span style=\"color: #008000; text-decoration-color: #008000\">│</span>\n",
       "<span style=\"color: #008000; text-decoration-color: #008000\">│</span> │<span style=\"color: #008080; text-decoration-color: #008080\">               </span>│<span style=\"color: #808000; text-decoration-color: #808000\">                                                    </span>│<span style=\"color: #000080; text-decoration-color: #000080\">              </span>│<span style=\"color: #008000; text-decoration-color: #008000\">         </span>│<span style=\"color: #800080; text-decoration-color: #800080\">   \"greeting\": </span>│ <span style=\"color: #008000; text-decoration-color: #008000\">│</span>\n",
       "<span style=\"color: #008000; text-decoration-color: #008000\">│</span> │<span style=\"color: #008080; text-decoration-color: #008080\">               </span>│<span style=\"color: #808000; text-decoration-color: #808000\">                                                    </span>│<span style=\"color: #000080; text-decoration-color: #000080\">              </span>│<span style=\"color: #008000; text-decoration-color: #008000\">         </span>│<span style=\"color: #800080; text-decoration-color: #800080\"> \"first_inter… </span>│ <span style=\"color: #008000; text-decoration-color: #008000\">│</span>\n",
       "<span style=\"color: #008000; text-decoration-color: #008000\">│</span> │<span style=\"color: #008080; text-decoration-color: #008080\">               </span>│<span style=\"color: #808000; text-decoration-color: #808000\">                                                    </span>│<span style=\"color: #000080; text-decoration-color: #000080\">              </span>│<span style=\"color: #008000; text-decoration-color: #008000\">         </span>│<span style=\"color: #800080; text-decoration-color: #800080\">   \"interests… </span>│ <span style=\"color: #008000; text-decoration-color: #008000\">│</span>\n",
       "<span style=\"color: #008000; text-decoration-color: #008000\">│</span> │<span style=\"color: #008080; text-decoration-color: #008080\">               </span>│<span style=\"color: #808000; text-decoration-color: #808000\">                                                    </span>│<span style=\"color: #000080; text-decoration-color: #000080\">              </span>│<span style=\"color: #008000; text-decoration-color: #008000\">         </span>│<span style=\"color: #800080; text-decoration-color: #800080\"> [             </span>│ <span style=\"color: #008000; text-decoration-color: #008000\">│</span>\n",
       "<span style=\"color: #008000; text-decoration-color: #008000\">│</span> │<span style=\"color: #008080; text-decoration-color: #008080\">               </span>│<span style=\"color: #808000; text-decoration-color: #808000\">                                                    </span>│<span style=\"color: #000080; text-decoration-color: #000080\">              </span>│<span style=\"color: #008000; text-decoration-color: #008000\">         </span>│<span style=\"color: #800080; text-decoration-color: #800080\">     \"DevOps\", </span>│ <span style=\"color: #008000; text-decoration-color: #008000\">│</span>\n",
       "<span style=\"color: #008000; text-decoration-color: #008000\">│</span> │<span style=\"color: #008080; text-decoration-color: #008080\">               </span>│<span style=\"color: #808000; text-decoration-color: #808000\">                                                    </span>│<span style=\"color: #000080; text-decoration-color: #000080\">              </span>│<span style=\"color: #008000; text-decoration-color: #008000\">         </span>│<span style=\"color: #800080; text-decoration-color: #800080\">     \"Cloud\"   </span>│ <span style=\"color: #008000; text-decoration-color: #008000\">│</span>\n",
       "<span style=\"color: #008000; text-decoration-color: #008000\">│</span> │<span style=\"color: #008080; text-decoration-color: #008080\">               </span>│<span style=\"color: #808000; text-decoration-color: #808000\">                                                    </span>│<span style=\"color: #000080; text-decoration-color: #000080\">              </span>│<span style=\"color: #008000; text-decoration-color: #008000\">         </span>│<span style=\"color: #800080; text-decoration-color: #800080\">   ]           </span>│ <span style=\"color: #008000; text-decoration-color: #008000\">│</span>\n",
       "<span style=\"color: #008000; text-decoration-color: #008000\">│</span> │<span style=\"color: #008080; text-decoration-color: #008080\">               </span>│<span style=\"color: #808000; text-decoration-color: #808000\">                                                    </span>│<span style=\"color: #000080; text-decoration-color: #000080\">              </span>│<span style=\"color: #008000; text-decoration-color: #008000\">         </span>│<span style=\"color: #800080; text-decoration-color: #800080\"> }             </span>│ <span style=\"color: #008000; text-decoration-color: #008000\">│</span>\n",
       "<span style=\"color: #008000; text-decoration-color: #008000\">│</span> │<span style=\"color: #008080; text-decoration-color: #008080\"> 1a058de7-72c… </span>│<span style=\"color: #808000; text-decoration-color: #808000\"> User name is Shubham                               </span>│<span style=\"color: #000080; text-decoration-color: #000080\"> 2025-08-17T… </span>│<span style=\"color: #008000; text-decoration-color: #008000\"> Shubham </span>│<span style=\"color: #800080; text-decoration-color: #800080\"> None          </span>│ <span style=\"color: #008000; text-decoration-color: #008000\">│</span>\n",
       "<span style=\"color: #008000; text-decoration-color: #008000\">│</span> └───────────────┴────────────────────────────────────────────────────┴──────────────┴─────────┴───────────────┘ <span style=\"color: #008000; text-decoration-color: #008000\">│</span>\n",
       "<span style=\"color: #008000; text-decoration-color: #008000\">╰─────────────────────────────────────────────────────────────────────────────────────────────────────────────────╯</span>\n",
       "</pre>\n"
      ],
      "text/plain": [
       "\u001b[32m╭─\u001b[0m\u001b[32m────────────────────────────────────────────────\u001b[0m\u001b[32m \u001b[0m\u001b[1;32mMemories List\u001b[0m\u001b[32m \u001b[0m\u001b[32m────────────────────────────────────────────────\u001b[0m\u001b[32m─╮\u001b[0m\n",
       "\u001b[32m│\u001b[0m \u001b[3m                                                   Memories                                                    \u001b[0m \u001b[32m│\u001b[0m\n",
       "\u001b[32m│\u001b[0m ┏━━━━━━━━━━━━━━━┳━━━━━━━━━━━━━━━━━━━━━━━━━━━━━━━━━━━━━━━━━━━━━━━━━━━━┳━━━━━━━━━━━━━━┳━━━━━━━━━┳━━━━━━━━━━━━━━━┓ \u001b[32m│\u001b[0m\n",
       "\u001b[32m│\u001b[0m ┃\u001b[1;35m \u001b[0m\u001b[1;35mID           \u001b[0m\u001b[1;35m \u001b[0m┃\u001b[1;35m \u001b[0m\u001b[1;35mMemory                                            \u001b[0m\u001b[1;35m \u001b[0m┃\u001b[1;35m \u001b[0m\u001b[1;35mCreated At  \u001b[0m\u001b[1;35m \u001b[0m┃\u001b[1;35m \u001b[0m\u001b[1;35mUser ID\u001b[0m\u001b[1;35m \u001b[0m┃\u001b[1;35m \u001b[0m\u001b[1;35mMetadata     \u001b[0m\u001b[1;35m \u001b[0m┃ \u001b[32m│\u001b[0m\n",
       "\u001b[32m│\u001b[0m ┡━━━━━━━━━━━━━━━╇━━━━━━━━━━━━━━━━━━━━━━━━━━━━━━━━━━━━━━━━━━━━━━━━━━━━╇━━━━━━━━━━━━━━╇━━━━━━━━━╇━━━━━━━━━━━━━━━┩ \u001b[32m│\u001b[0m\n",
       "\u001b[32m│\u001b[0m │\u001b[36m \u001b[0m\u001b[36me40355e2-ea2…\u001b[0m\u001b[36m \u001b[0m│\u001b[33m \u001b[0m\u001b[33mLoves DevOps & Cloud technologies                 \u001b[0m\u001b[33m \u001b[0m│\u001b[34m \u001b[0m\u001b[34m2025-08-17T…\u001b[0m\u001b[34m \u001b[0m│\u001b[32m \u001b[0m\u001b[32mShubham\u001b[0m\u001b[32m \u001b[0m│\u001b[35m \u001b[0m\u001b[35m{            \u001b[0m\u001b[35m \u001b[0m│ \u001b[32m│\u001b[0m\n",
       "\u001b[32m│\u001b[0m │\u001b[36m               \u001b[0m│\u001b[33m                                                    \u001b[0m│\u001b[34m              \u001b[0m│\u001b[32m         \u001b[0m│\u001b[35m \u001b[0m\u001b[35m  \"greeting\":\u001b[0m\u001b[35m \u001b[0m│ \u001b[32m│\u001b[0m\n",
       "\u001b[32m│\u001b[0m │\u001b[36m               \u001b[0m│\u001b[33m                                                    \u001b[0m│\u001b[34m              \u001b[0m│\u001b[32m         \u001b[0m│\u001b[35m \u001b[0m\u001b[35m\"first_inter…\u001b[0m\u001b[35m \u001b[0m│ \u001b[32m│\u001b[0m\n",
       "\u001b[32m│\u001b[0m │\u001b[36m               \u001b[0m│\u001b[33m                                                    \u001b[0m│\u001b[34m              \u001b[0m│\u001b[32m         \u001b[0m│\u001b[35m \u001b[0m\u001b[35m  \"interests…\u001b[0m\u001b[35m \u001b[0m│ \u001b[32m│\u001b[0m\n",
       "\u001b[32m│\u001b[0m │\u001b[36m               \u001b[0m│\u001b[33m                                                    \u001b[0m│\u001b[34m              \u001b[0m│\u001b[32m         \u001b[0m│\u001b[35m \u001b[0m\u001b[35m[            \u001b[0m\u001b[35m \u001b[0m│ \u001b[32m│\u001b[0m\n",
       "\u001b[32m│\u001b[0m │\u001b[36m               \u001b[0m│\u001b[33m                                                    \u001b[0m│\u001b[34m              \u001b[0m│\u001b[32m         \u001b[0m│\u001b[35m \u001b[0m\u001b[35m    \"DevOps\",\u001b[0m\u001b[35m \u001b[0m│ \u001b[32m│\u001b[0m\n",
       "\u001b[32m│\u001b[0m │\u001b[36m               \u001b[0m│\u001b[33m                                                    \u001b[0m│\u001b[34m              \u001b[0m│\u001b[32m         \u001b[0m│\u001b[35m \u001b[0m\u001b[35m    \"Cloud\"  \u001b[0m\u001b[35m \u001b[0m│ \u001b[32m│\u001b[0m\n",
       "\u001b[32m│\u001b[0m │\u001b[36m               \u001b[0m│\u001b[33m                                                    \u001b[0m│\u001b[34m              \u001b[0m│\u001b[32m         \u001b[0m│\u001b[35m \u001b[0m\u001b[35m  ]          \u001b[0m\u001b[35m \u001b[0m│ \u001b[32m│\u001b[0m\n",
       "\u001b[32m│\u001b[0m │\u001b[36m               \u001b[0m│\u001b[33m                                                    \u001b[0m│\u001b[34m              \u001b[0m│\u001b[32m         \u001b[0m│\u001b[35m \u001b[0m\u001b[35m}            \u001b[0m\u001b[35m \u001b[0m│ \u001b[32m│\u001b[0m\n",
       "\u001b[32m│\u001b[0m │\u001b[36m \u001b[0m\u001b[36m1a058de7-72c…\u001b[0m\u001b[36m \u001b[0m│\u001b[33m \u001b[0m\u001b[33mUser name is Shubham                              \u001b[0m\u001b[33m \u001b[0m│\u001b[34m \u001b[0m\u001b[34m2025-08-17T…\u001b[0m\u001b[34m \u001b[0m│\u001b[32m \u001b[0m\u001b[32mShubham\u001b[0m\u001b[32m \u001b[0m│\u001b[35m \u001b[0m\u001b[35mNone         \u001b[0m\u001b[35m \u001b[0m│ \u001b[32m│\u001b[0m\n",
       "\u001b[32m│\u001b[0m └───────────────┴────────────────────────────────────────────────────┴──────────────┴─────────┴───────────────┘ \u001b[32m│\u001b[0m\n",
       "\u001b[32m╰─────────────────────────────────────────────────────────────────────────────────────────────────────────────────╯\u001b[0m\n"
      ]
     },
     "metadata": {},
     "output_type": "display_data"
    },
    {
     "name": "stdout",
     "output_type": "stream",
     "text": [
      "Based on what I remember about you, Shubham:\n",
      "\n",
      "1. **Your name** is Shubham\n",
      "2. **Your interests**: You love DevOps & Cloud technologies\n",
      "3. **Your greeting style**: You like to say \"Dosto\" when greeting\n",
      "\n",
      "I remember these details from our previous interaction where you introduced yourself with enthusiasm about DevOps and Cloud computing. Is there anything else you'd like me to know about your background or interests in these areas?"
     ]
    }
   ],
   "source": [
    "# Test conversation\n",
    "if agent:\n",
    "    print(\"💬 Conversation 1:\")\n",
    "    response1 = agent(\"Hello Dosto, my name is Shubham and I love DevOps & Cloud.\")\n",
    "    print(\"\\n💬 Conversation 2:\")\n",
    "    response2 = agent(\"What do you remember about me?\")\n",
    "else:\n",
    "    print(\"❌ Cannot run conversation - agent not initialized\")\n",
    "    print(\"💡 To use memory: Set MEM0_API_KEY environment variable\")\n",
    "    print(\"   Get your free API key from https://mem0.ai\")"
   ]
  },
  {
   "cell_type": "markdown",
   "metadata": {},
   "source": [
    "## 🔄 Alternative: Agent Without Memory\n",
    "\n",
    "For comparison, let's see how a regular agent behaves without memory:"
   ]
  },
  {
   "cell_type": "code",
   "execution_count": 10,
   "metadata": {},
   "outputs": [
    {
     "name": "stdout",
     "output_type": "stream",
     "text": [
      "🤖 Regular Agent (No Memory):\n",
      "\n",
      "💬 Conversation 1:\n",
      "Hello Shubham! Nice to meet you! It's great to hear about your passion for DevOps and Cloud technologies - that's such an exciting and rapidly evolving field. \n",
      "\n",
      "Are you currently working in DevOps/Cloud, or are you learning and exploring these areas? I'd be happy to discuss anything related to:\n",
      "\n",
      "- Cloud platforms (AWS, Azure, GCP, etc.)\n",
      "- DevOps tools and practices (CI/CD, containerization, infrastructure as code)\n",
      "- Automation and monitoring\n",
      "- Best practices and emerging trends\n",
      "\n",
      "What aspects of DevOps and Cloud are you most interested in or working with lately?\n",
      "💬 Conversation 2:\n",
      "From our conversation, I remember that:\n",
      "\n",
      "- Your name is Shubham\n",
      "- You love DevOps & Cloud technologies\n",
      "\n",
      "That's all the information you've shared with me so far! If there are other things about your background, experience, or interests in DevOps and Cloud that you'd like me to know, feel free to tell me more. I'm here to help with any questions or discussions you might have about these topics.\n",
      "📝 Notice: Regular agents don't remember previous conversations!\n"
     ]
    }
   ],
   "source": [
    "# Create agent without memory for comparison\n",
    "regular_agent = Agent(\n",
    "    model=\"us.anthropic.claude-sonnet-4-20250514-v1:0\"\n",
    ")\n",
    "\n",
    "print(\"🤖 Regular Agent (No Memory):\")\n",
    "print(\"\\n💬 Conversation 1:\")\n",
    "response1 = regular_agent(\"Hello, my name is Shubham and I love DevOps & Cloud.\")\n",
    "\n",
    "print(\"\\n💬 Conversation 2:\")\n",
    "response2 = regular_agent(\"What do you remember about me?\")\n",
    "\n",
    "print(\"\\n📝 Notice: Regular agents don't remember previous conversations!\")"
   ]
  },
  {
   "cell_type": "markdown",
   "metadata": {},
   "source": [
    "## 🎯 Memory Best Practices\n",
    "\n",
    "### When to Use Memory:\n",
    "- **Personalized assistants** that need to remember user preferences\n",
    "- **Long-running conversations** spanning multiple sessions\n",
    "- **Learning systems** that adapt to user behavior\n",
    "- **Context-aware applications** requiring historical knowledge\n",
    "\n",
    "### Memory Considerations:\n",
    "- **Privacy**: Be mindful of what information is stored\n",
    "- **Cost**: Memory storage may have associated costs\n",
    "- **Performance**: Memory lookups add slight latency\n",
    "- **Cleanup**: Consider memory retention policies\n",
    "\n",
    "### Setup Instructions:\n",
    "1. **Get API Key**: Visit [mem0.ai](https://mem0.ai) for free API key\n",
    "2. **Set Environment**: `export MEM0_API_KEY=your_key_here`\n",
    "3. **Test Memory**: Run conversations to verify memory persistence\n",
    "4. **Monitor Usage**: Check memory usage in Mem0 dashboard"
   ]
  },
  {
   "cell_type": "markdown",
   "metadata": {},
   "source": [
    "## 🧪 Advanced Memory Examples\n",
    "\n",
    "Let's explore more sophisticated memory usage:"
   ]
  },
  {
   "cell_type": "code",
   "execution_count": null,
   "metadata": {},
   "outputs": [],
   "source": [
    "if agent:\n",
    "    print(\"🔬 Advanced Memory Test:\")\n",
    "    \n",
    "    # Store preferences\n",
    "    print(\"\\n💬 Setting preferences:\")\n",
    "    pref_response = agent(\"I prefer Python over JavaScript, and I work with AWS daily. Remember this!\")\n",
    "    \n",
    "    # Test recall\n",
    "    print(\"\\n💬 Testing recall:\")\n",
    "    recall_response = agent(\"What programming language do I prefer and what cloud platform do I use?\")\n",
    "    \n",
    "    # Store project info\n",
    "    print(\"\\n💬 Adding project context:\")\n",
    "    project_response = agent(\"I'm currently working on a microservices project using Docker and Kubernetes.\")\n",
    "    \n",
    "    # Comprehensive recall\n",
    "    print(\"\\n💬 Comprehensive recall:\")\n",
    "    full_recall = agent(\"Tell me everything you remember about my work and preferences.\")\n",
    "    \n",
    "else:\n",
    "    print(\"⚠️ Advanced examples require MEM0_API_KEY\")\n",
    "    print(\"💡 Set up memory to see these features in action!\")"
   ]
  },
  {
   "cell_type": "markdown",
   "metadata": {},
   "source": [
    "## 📊 Summary\n",
    "\n",
    "You've learned how to:\n",
    "\n",
    "✅ **Set up memory-enabled agents** with Mem0 integration  \n",
    "✅ **Store and retrieve information** across conversations  \n",
    "✅ **Compare memory vs non-memory** agent behavior  \n",
    "✅ **Apply memory best practices** for production use  \n",
    "\n",
    "### 🔑 Key Takeaways:\n",
    "- **Memory transforms agents** from stateless to stateful\n",
    "- **Persistent context** enables personalized experiences\n",
    "- **Privacy and cost** considerations are important\n",
    "- **Setup is simple** with environment variables\n",
    "\n",
    "### 🚀 Next Steps:\n",
    "- Get your free Mem0 API key from [mem0.ai](https://mem0.ai)\n",
    "- Experiment with different conversation patterns\n",
    "- Build personalized assistant applications\n",
    "- Explore memory management strategies\n",
    "\n",
    "**Continue to notebook 05 for advanced real-world examples! 🎯**"
   ]
  }
 ],
 "metadata": {
  "kernelspec": {
   "display_name": "Python 3 (ipykernel)",
   "language": "python",
   "name": "python3"
  },
  "language_info": {
   "codemirror_mode": {
    "name": "ipython",
    "version": 3
   },
   "file_extension": ".py",
   "mimetype": "text/x-python",
   "name": "python",
   "nbconvert_exporter": "python",
   "pygments_lexer": "ipython3",
   "version": "3.13.3"
  }
 },
 "nbformat": 4,
 "nbformat_minor": 4
}
