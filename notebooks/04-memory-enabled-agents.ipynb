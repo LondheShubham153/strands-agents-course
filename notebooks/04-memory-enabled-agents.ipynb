{
 "cells": [
  {
   "cell_type": "markdown",
   "metadata": {},
   "source": [
    "# 🧠 Memory-Enabled Agents with Strands\n",
    "\n",
    "This notebook demonstrates how to create agents with persistent memory using Mem0, enabling them to remember user preferences and conversation history.\n",
    "\n",
    "## 📋 What You'll Learn\n",
    "\n",
    "- Setting up persistent memory with Mem0\n",
    "- Storing and retrieving user information\n",
    "- Building conversational agents with context\n",
    "- Memory management best practices\n",
    "\n",
    "## 🎯 Prerequisites\n",
    "\n",
    "- Basic understanding of Strands agents (complete notebook 01 first)\n",
    "- Familiarity with tools (complete notebook 02)\n",
    "- Optional: Mem0 API key for cloud memory (get from [mem0.ai](https://mem0.ai))"
   ]
  },
  {
   "cell_type": "markdown",
   "metadata": {},
   "source": [
    "## 📦 Installation and Setup"
   ]
  },
  {
   "cell_type": "code",
   "execution_count": 6,
   "metadata": {},
   "outputs": [
    {
     "name": "stdout",
     "output_type": "stream",
     "text": [
      "Requirement already satisfied: strands-agents in /Users/lshubh/Documents/work/aws/strands-agents/strands-agents-workshop/venv/lib/python3.13/site-packages (from -r requirements.txt (line 2)) (1.4.0)\n",
      "Requirement already satisfied: strands-agents-tools in /Users/lshubh/Documents/work/aws/strands-agents/strands-agents-workshop/venv/lib/python3.13/site-packages (from -r requirements.txt (line 3)) (0.2.3)\n",
      "Requirement already satisfied: boto3 in /Users/lshubh/Documents/work/aws/strands-agents/strands-agents-workshop/venv/lib/python3.13/site-packages (from -r requirements.txt (line 6)) (1.40.11)\n",
      "Requirement already satisfied: botocore in /Users/lshubh/Documents/work/aws/strands-agents/strands-agents-workshop/venv/lib/python3.13/site-packages (from -r requirements.txt (line 7)) (1.40.11)\n",
      "Requirement already satisfied: duckduckgo-search in /Users/lshubh/Documents/work/aws/strands-agents/strands-agents-workshop/venv/lib/python3.13/site-packages (from -r requirements.txt (line 10)) (8.1.1)\n",
      "Requirement already satisfied: ollama in /Users/lshubh/Documents/work/aws/strands-agents/strands-agents-workshop/venv/lib/python3.13/site-packages (from -r requirements.txt (line 13)) (0.5.3)\n",
      "Requirement already satisfied: mcp in /Users/lshubh/Documents/work/aws/strands-agents/strands-agents-workshop/venv/lib/python3.13/site-packages (from -r requirements.txt (line 16)) (1.13.0)\n",
      "Requirement already satisfied: mem0ai in /Users/lshubh/Documents/work/aws/strands-agents/strands-agents-workshop/venv/lib/python3.13/site-packages (from -r requirements.txt (line 19)) (0.1.116)\n",
      "Requirement already satisfied: opensearch-py in /Users/lshubh/Documents/work/aws/strands-agents/strands-agents-workshop/venv/lib/python3.13/site-packages (from -r requirements.txt (line 20)) (3.0.0)\n",
      "Requirement already satisfied: jupyter in /Users/lshubh/Documents/work/aws/strands-agents/strands-agents-workshop/venv/lib/python3.13/site-packages (from -r requirements.txt (line 23)) (1.1.1)\n",
      "Requirement already satisfied: ipykernel in /Users/lshubh/Documents/work/aws/strands-agents/strands-agents-workshop/venv/lib/python3.13/site-packages (from -r requirements.txt (line 24)) (6.30.1)\n",
      "Requirement already satisfied: docstring-parser<1.0,>=0.15 in /Users/lshubh/Documents/work/aws/strands-agents/strands-agents-workshop/venv/lib/python3.13/site-packages (from strands-agents->-r requirements.txt (line 2)) (0.17.0)\n",
      "Requirement already satisfied: opentelemetry-api<2.0.0,>=1.30.0 in /Users/lshubh/Documents/work/aws/strands-agents/strands-agents-workshop/venv/lib/python3.13/site-packages (from strands-agents->-r requirements.txt (line 2)) (1.36.0)\n",
      "Requirement already satisfied: opentelemetry-instrumentation-threading<1.00b0,>=0.51b0 in /Users/lshubh/Documents/work/aws/strands-agents/strands-agents-workshop/venv/lib/python3.13/site-packages (from strands-agents->-r requirements.txt (line 2)) (0.57b0)\n",
      "Requirement already satisfied: opentelemetry-sdk<2.0.0,>=1.30.0 in /Users/lshubh/Documents/work/aws/strands-agents/strands-agents-workshop/venv/lib/python3.13/site-packages (from strands-agents->-r requirements.txt (line 2)) (1.36.0)\n",
      "Requirement already satisfied: pydantic<3.0.0,>=2.0.0 in /Users/lshubh/Documents/work/aws/strands-agents/strands-agents-workshop/venv/lib/python3.13/site-packages (from strands-agents->-r requirements.txt (line 2)) (2.11.7)\n",
      "Requirement already satisfied: typing-extensions<5.0.0,>=4.13.2 in /Users/lshubh/Documents/work/aws/strands-agents/strands-agents-workshop/venv/lib/python3.13/site-packages (from strands-agents->-r requirements.txt (line 2)) (4.14.1)\n",
      "Requirement already satisfied: watchdog<7.0.0,>=6.0.0 in /Users/lshubh/Documents/work/aws/strands-agents/strands-agents-workshop/venv/lib/python3.13/site-packages (from strands-agents->-r requirements.txt (line 2)) (6.0.0)\n",
      "Requirement already satisfied: jmespath<2.0.0,>=0.7.1 in /Users/lshubh/Documents/work/aws/strands-agents/strands-agents-workshop/venv/lib/python3.13/site-packages (from boto3->-r requirements.txt (line 6)) (1.0.1)\n",
      "Requirement already satisfied: s3transfer<0.14.0,>=0.13.0 in /Users/lshubh/Documents/work/aws/strands-agents/strands-agents-workshop/venv/lib/python3.13/site-packages (from boto3->-r requirements.txt (line 6)) (0.13.1)\n",
      "Requirement already satisfied: python-dateutil<3.0.0,>=2.1 in /Users/lshubh/Documents/work/aws/strands-agents/strands-agents-workshop/venv/lib/python3.13/site-packages (from botocore->-r requirements.txt (line 7)) (2.9.0.post0)\n",
      "Requirement already satisfied: urllib3!=2.2.0,<3,>=1.25.4 in /Users/lshubh/Documents/work/aws/strands-agents/strands-agents-workshop/venv/lib/python3.13/site-packages (from botocore->-r requirements.txt (line 7)) (2.5.0)\n",
      "Requirement already satisfied: anyio>=4.5 in /Users/lshubh/Documents/work/aws/strands-agents/strands-agents-workshop/venv/lib/python3.13/site-packages (from mcp->-r requirements.txt (line 16)) (4.10.0)\n",
      "Requirement already satisfied: httpx-sse>=0.4 in /Users/lshubh/Documents/work/aws/strands-agents/strands-agents-workshop/venv/lib/python3.13/site-packages (from mcp->-r requirements.txt (line 16)) (0.4.1)\n",
      "Requirement already satisfied: httpx>=0.27.1 in /Users/lshubh/Documents/work/aws/strands-agents/strands-agents-workshop/venv/lib/python3.13/site-packages (from mcp->-r requirements.txt (line 16)) (0.28.1)\n",
      "Requirement already satisfied: jsonschema>=4.20.0 in /Users/lshubh/Documents/work/aws/strands-agents/strands-agents-workshop/venv/lib/python3.13/site-packages (from mcp->-r requirements.txt (line 16)) (4.25.0)\n",
      "Requirement already satisfied: pydantic-settings>=2.5.2 in /Users/lshubh/Documents/work/aws/strands-agents/strands-agents-workshop/venv/lib/python3.13/site-packages (from mcp->-r requirements.txt (line 16)) (2.10.1)\n",
      "Requirement already satisfied: python-multipart>=0.0.9 in /Users/lshubh/Documents/work/aws/strands-agents/strands-agents-workshop/venv/lib/python3.13/site-packages (from mcp->-r requirements.txt (line 16)) (0.0.20)\n",
      "Requirement already satisfied: sse-starlette>=1.6.1 in /Users/lshubh/Documents/work/aws/strands-agents/strands-agents-workshop/venv/lib/python3.13/site-packages (from mcp->-r requirements.txt (line 16)) (3.0.2)\n",
      "Requirement already satisfied: starlette>=0.27 in /Users/lshubh/Documents/work/aws/strands-agents/strands-agents-workshop/venv/lib/python3.13/site-packages (from mcp->-r requirements.txt (line 16)) (0.47.2)\n",
      "Requirement already satisfied: uvicorn>=0.31.1 in /Users/lshubh/Documents/work/aws/strands-agents/strands-agents-workshop/venv/lib/python3.13/site-packages (from mcp->-r requirements.txt (line 16)) (0.35.0)\n",
      "Requirement already satisfied: importlib-metadata<8.8.0,>=6.0 in /Users/lshubh/Documents/work/aws/strands-agents/strands-agents-workshop/venv/lib/python3.13/site-packages (from opentelemetry-api<2.0.0,>=1.30.0->strands-agents->-r requirements.txt (line 2)) (8.7.0)\n",
      "Requirement already satisfied: zipp>=3.20 in /Users/lshubh/Documents/work/aws/strands-agents/strands-agents-workshop/venv/lib/python3.13/site-packages (from importlib-metadata<8.8.0,>=6.0->opentelemetry-api<2.0.0,>=1.30.0->strands-agents->-r requirements.txt (line 2)) (3.23.0)\n",
      "Requirement already satisfied: opentelemetry-instrumentation==0.57b0 in /Users/lshubh/Documents/work/aws/strands-agents/strands-agents-workshop/venv/lib/python3.13/site-packages (from opentelemetry-instrumentation-threading<1.00b0,>=0.51b0->strands-agents->-r requirements.txt (line 2)) (0.57b0)\n",
      "Requirement already satisfied: wrapt<2.0.0,>=1.0.0 in /Users/lshubh/Documents/work/aws/strands-agents/strands-agents-workshop/venv/lib/python3.13/site-packages (from opentelemetry-instrumentation-threading<1.00b0,>=0.51b0->strands-agents->-r requirements.txt (line 2)) (1.17.3)\n",
      "Requirement already satisfied: opentelemetry-semantic-conventions==0.57b0 in /Users/lshubh/Documents/work/aws/strands-agents/strands-agents-workshop/venv/lib/python3.13/site-packages (from opentelemetry-instrumentation==0.57b0->opentelemetry-instrumentation-threading<1.00b0,>=0.51b0->strands-agents->-r requirements.txt (line 2)) (0.57b0)\n",
      "Requirement already satisfied: packaging>=18.0 in /Users/lshubh/Documents/work/aws/strands-agents/strands-agents-workshop/venv/lib/python3.13/site-packages (from opentelemetry-instrumentation==0.57b0->opentelemetry-instrumentation-threading<1.00b0,>=0.51b0->strands-agents->-r requirements.txt (line 2)) (25.0)\n",
      "Requirement already satisfied: annotated-types>=0.6.0 in /Users/lshubh/Documents/work/aws/strands-agents/strands-agents-workshop/venv/lib/python3.13/site-packages (from pydantic<3.0.0,>=2.0.0->strands-agents->-r requirements.txt (line 2)) (0.7.0)\n",
      "Requirement already satisfied: pydantic-core==2.33.2 in /Users/lshubh/Documents/work/aws/strands-agents/strands-agents-workshop/venv/lib/python3.13/site-packages (from pydantic<3.0.0,>=2.0.0->strands-agents->-r requirements.txt (line 2)) (2.33.2)\n",
      "Requirement already satisfied: typing-inspection>=0.4.0 in /Users/lshubh/Documents/work/aws/strands-agents/strands-agents-workshop/venv/lib/python3.13/site-packages (from pydantic<3.0.0,>=2.0.0->strands-agents->-r requirements.txt (line 2)) (0.4.1)\n",
      "Requirement already satisfied: six>=1.5 in /Users/lshubh/Documents/work/aws/strands-agents/strands-agents-workshop/venv/lib/python3.13/site-packages (from python-dateutil<3.0.0,>=2.1->botocore->-r requirements.txt (line 7)) (1.17.0)\n",
      "Requirement already satisfied: aws-requests-auth<0.5.0,>=0.4.3 in /Users/lshubh/Documents/work/aws/strands-agents/strands-agents-workshop/venv/lib/python3.13/site-packages (from strands-agents-tools->-r requirements.txt (line 3)) (0.4.3)\n",
      "Requirement already satisfied: dill<0.5.0,>=0.4.0 in /Users/lshubh/Documents/work/aws/strands-agents/strands-agents-workshop/venv/lib/python3.13/site-packages (from strands-agents-tools->-r requirements.txt (line 3)) (0.4.0)\n",
      "Requirement already satisfied: markdownify<2.0.0,>=1.0.0 in /Users/lshubh/Documents/work/aws/strands-agents/strands-agents-workshop/venv/lib/python3.13/site-packages (from strands-agents-tools->-r requirements.txt (line 3)) (1.2.0)\n",
      "Requirement already satisfied: pillow<12.0.0,>=11.2.1 in /Users/lshubh/Documents/work/aws/strands-agents/strands-agents-workshop/venv/lib/python3.13/site-packages (from strands-agents-tools->-r requirements.txt (line 3)) (11.3.0)\n",
      "Requirement already satisfied: prompt-toolkit<4.0.0,>=3.0.51 in /Users/lshubh/Documents/work/aws/strands-agents/strands-agents-workshop/venv/lib/python3.13/site-packages (from strands-agents-tools->-r requirements.txt (line 3)) (3.0.51)\n",
      "Requirement already satisfied: pyjwt<3.0.0,>=2.10.1 in /Users/lshubh/Documents/work/aws/strands-agents/strands-agents-workshop/venv/lib/python3.13/site-packages (from strands-agents-tools->-r requirements.txt (line 3)) (2.10.1)\n",
      "Requirement already satisfied: readabilipy<1.0.0,>=0.2.0 in /Users/lshubh/Documents/work/aws/strands-agents/strands-agents-workshop/venv/lib/python3.13/site-packages (from strands-agents-tools->-r requirements.txt (line 3)) (0.3.0)\n",
      "Requirement already satisfied: rich<15.0.0,>=14.0.0 in /Users/lshubh/Documents/work/aws/strands-agents/strands-agents-workshop/venv/lib/python3.13/site-packages (from strands-agents-tools->-r requirements.txt (line 3)) (14.1.0)\n",
      "Requirement already satisfied: slack-bolt<2.0.0,>=1.23.0 in /Users/lshubh/Documents/work/aws/strands-agents/strands-agents-workshop/venv/lib/python3.13/site-packages (from strands-agents-tools->-r requirements.txt (line 3)) (1.23.0)\n",
      "Requirement already satisfied: sympy<2.0.0,>=1.12.0 in /Users/lshubh/Documents/work/aws/strands-agents/strands-agents-workshop/venv/lib/python3.13/site-packages (from strands-agents-tools->-r requirements.txt (line 3)) (1.14.0)\n",
      "Requirement already satisfied: tenacity<10.0.0,>=9.1.2 in /Users/lshubh/Documents/work/aws/strands-agents/strands-agents-workshop/venv/lib/python3.13/site-packages (from strands-agents-tools->-r requirements.txt (line 3)) (9.1.2)\n",
      "Requirement already satisfied: requests>=0.14.0 in /Users/lshubh/Documents/work/aws/strands-agents/strands-agents-workshop/venv/lib/python3.13/site-packages (from aws-requests-auth<0.5.0,>=0.4.3->strands-agents-tools->-r requirements.txt (line 3)) (2.32.4)\n",
      "Requirement already satisfied: beautifulsoup4<5,>=4.9 in /Users/lshubh/Documents/work/aws/strands-agents/strands-agents-workshop/venv/lib/python3.13/site-packages (from markdownify<2.0.0,>=1.0.0->strands-agents-tools->-r requirements.txt (line 3)) (4.13.4)\n",
      "Requirement already satisfied: soupsieve>1.2 in /Users/lshubh/Documents/work/aws/strands-agents/strands-agents-workshop/venv/lib/python3.13/site-packages (from beautifulsoup4<5,>=4.9->markdownify<2.0.0,>=1.0.0->strands-agents-tools->-r requirements.txt (line 3)) (2.7)\n",
      "Requirement already satisfied: wcwidth in /Users/lshubh/Documents/work/aws/strands-agents/strands-agents-workshop/venv/lib/python3.13/site-packages (from prompt-toolkit<4.0.0,>=3.0.51->strands-agents-tools->-r requirements.txt (line 3)) (0.2.13)\n",
      "Requirement already satisfied: html5lib in /Users/lshubh/Documents/work/aws/strands-agents/strands-agents-workshop/venv/lib/python3.13/site-packages (from readabilipy<1.0.0,>=0.2.0->strands-agents-tools->-r requirements.txt (line 3)) (1.1)\n",
      "Requirement already satisfied: lxml in /Users/lshubh/Documents/work/aws/strands-agents/strands-agents-workshop/venv/lib/python3.13/site-packages (from readabilipy<1.0.0,>=0.2.0->strands-agents-tools->-r requirements.txt (line 3)) (6.0.0)\n",
      "Requirement already satisfied: regex in /Users/lshubh/Documents/work/aws/strands-agents/strands-agents-workshop/venv/lib/python3.13/site-packages (from readabilipy<1.0.0,>=0.2.0->strands-agents-tools->-r requirements.txt (line 3)) (2025.7.34)\n",
      "Requirement already satisfied: markdown-it-py>=2.2.0 in /Users/lshubh/Documents/work/aws/strands-agents/strands-agents-workshop/venv/lib/python3.13/site-packages (from rich<15.0.0,>=14.0.0->strands-agents-tools->-r requirements.txt (line 3)) (4.0.0)\n",
      "Requirement already satisfied: pygments<3.0.0,>=2.13.0 in /Users/lshubh/Documents/work/aws/strands-agents/strands-agents-workshop/venv/lib/python3.13/site-packages (from rich<15.0.0,>=14.0.0->strands-agents-tools->-r requirements.txt (line 3)) (2.19.2)\n",
      "Requirement already satisfied: slack_sdk<4,>=3.35.0 in /Users/lshubh/Documents/work/aws/strands-agents/strands-agents-workshop/venv/lib/python3.13/site-packages (from slack-bolt<2.0.0,>=1.23.0->strands-agents-tools->-r requirements.txt (line 3)) (3.36.0)\n",
      "Requirement already satisfied: mpmath<1.4,>=1.1.0 in /Users/lshubh/Documents/work/aws/strands-agents/strands-agents-workshop/venv/lib/python3.13/site-packages (from sympy<2.0.0,>=1.12.0->strands-agents-tools->-r requirements.txt (line 3)) (1.3.0)\n",
      "Requirement already satisfied: click>=8.1.8 in /Users/lshubh/Documents/work/aws/strands-agents/strands-agents-workshop/venv/lib/python3.13/site-packages (from duckduckgo-search->-r requirements.txt (line 10)) (8.2.1)\n",
      "Requirement already satisfied: primp>=0.15.0 in /Users/lshubh/Documents/work/aws/strands-agents/strands-agents-workshop/venv/lib/python3.13/site-packages (from duckduckgo-search->-r requirements.txt (line 10)) (0.15.0)\n",
      "Requirement already satisfied: openai>=1.33.0 in /Users/lshubh/Documents/work/aws/strands-agents/strands-agents-workshop/venv/lib/python3.13/site-packages (from mem0ai->-r requirements.txt (line 19)) (1.99.9)\n",
      "Requirement already satisfied: posthog>=3.5.0 in /Users/lshubh/Documents/work/aws/strands-agents/strands-agents-workshop/venv/lib/python3.13/site-packages (from mem0ai->-r requirements.txt (line 19)) (6.5.0)\n",
      "Requirement already satisfied: protobuf<6.0.0,>=5.29.0 in /Users/lshubh/Documents/work/aws/strands-agents/strands-agents-workshop/venv/lib/python3.13/site-packages (from mem0ai->-r requirements.txt (line 19)) (5.29.5)\n",
      "Requirement already satisfied: pytz>=2024.1 in /Users/lshubh/Documents/work/aws/strands-agents/strands-agents-workshop/venv/lib/python3.13/site-packages (from mem0ai->-r requirements.txt (line 19)) (2025.2)\n",
      "Requirement already satisfied: qdrant-client>=1.9.1 in /Users/lshubh/Documents/work/aws/strands-agents/strands-agents-workshop/venv/lib/python3.13/site-packages (from mem0ai->-r requirements.txt (line 19)) (1.15.1)\n",
      "Requirement already satisfied: sqlalchemy>=2.0.31 in /Users/lshubh/Documents/work/aws/strands-agents/strands-agents-workshop/venv/lib/python3.13/site-packages (from mem0ai->-r requirements.txt (line 19)) (2.0.43)\n",
      "Requirement already satisfied: certifi>=2024.07.04 in /Users/lshubh/Documents/work/aws/strands-agents/strands-agents-workshop/venv/lib/python3.13/site-packages (from opensearch-py->-r requirements.txt (line 20)) (2025.8.3)\n",
      "Requirement already satisfied: Events in /Users/lshubh/Documents/work/aws/strands-agents/strands-agents-workshop/venv/lib/python3.13/site-packages (from opensearch-py->-r requirements.txt (line 20)) (0.5)\n",
      "Requirement already satisfied: charset_normalizer<4,>=2 in /Users/lshubh/Documents/work/aws/strands-agents/strands-agents-workshop/venv/lib/python3.13/site-packages (from requests>=0.14.0->aws-requests-auth<0.5.0,>=0.4.3->strands-agents-tools->-r requirements.txt (line 3)) (3.4.3)\n",
      "Requirement already satisfied: idna<4,>=2.5 in /Users/lshubh/Documents/work/aws/strands-agents/strands-agents-workshop/venv/lib/python3.13/site-packages (from requests>=0.14.0->aws-requests-auth<0.5.0,>=0.4.3->strands-agents-tools->-r requirements.txt (line 3)) (3.10)\n",
      "Requirement already satisfied: notebook in /Users/lshubh/Documents/work/aws/strands-agents/strands-agents-workshop/venv/lib/python3.13/site-packages (from jupyter->-r requirements.txt (line 23)) (7.4.5)\n",
      "Requirement already satisfied: jupyter-console in /Users/lshubh/Documents/work/aws/strands-agents/strands-agents-workshop/venv/lib/python3.13/site-packages (from jupyter->-r requirements.txt (line 23)) (6.6.3)\n",
      "Requirement already satisfied: nbconvert in /Users/lshubh/Documents/work/aws/strands-agents/strands-agents-workshop/venv/lib/python3.13/site-packages (from jupyter->-r requirements.txt (line 23)) (7.16.6)\n",
      "Requirement already satisfied: ipywidgets in /Users/lshubh/Documents/work/aws/strands-agents/strands-agents-workshop/venv/lib/python3.13/site-packages (from jupyter->-r requirements.txt (line 23)) (8.1.7)\n",
      "Requirement already satisfied: jupyterlab in /Users/lshubh/Documents/work/aws/strands-agents/strands-agents-workshop/venv/lib/python3.13/site-packages (from jupyter->-r requirements.txt (line 23)) (4.4.6)\n",
      "Requirement already satisfied: appnope>=0.1.2 in /Users/lshubh/Documents/work/aws/strands-agents/strands-agents-workshop/venv/lib/python3.13/site-packages (from ipykernel->-r requirements.txt (line 24)) (0.1.4)\n",
      "Requirement already satisfied: comm>=0.1.1 in /Users/lshubh/Documents/work/aws/strands-agents/strands-agents-workshop/venv/lib/python3.13/site-packages (from ipykernel->-r requirements.txt (line 24)) (0.2.3)\n",
      "Requirement already satisfied: debugpy>=1.6.5 in /Users/lshubh/Documents/work/aws/strands-agents/strands-agents-workshop/venv/lib/python3.13/site-packages (from ipykernel->-r requirements.txt (line 24)) (1.8.16)\n",
      "Requirement already satisfied: ipython>=7.23.1 in /Users/lshubh/Documents/work/aws/strands-agents/strands-agents-workshop/venv/lib/python3.13/site-packages (from ipykernel->-r requirements.txt (line 24)) (9.4.0)\n",
      "Requirement already satisfied: jupyter-client>=8.0.0 in /Users/lshubh/Documents/work/aws/strands-agents/strands-agents-workshop/venv/lib/python3.13/site-packages (from ipykernel->-r requirements.txt (line 24)) (8.6.3)\n",
      "Requirement already satisfied: jupyter-core!=5.0.*,>=4.12 in /Users/lshubh/Documents/work/aws/strands-agents/strands-agents-workshop/venv/lib/python3.13/site-packages (from ipykernel->-r requirements.txt (line 24)) (5.8.1)\n",
      "Requirement already satisfied: matplotlib-inline>=0.1 in /Users/lshubh/Documents/work/aws/strands-agents/strands-agents-workshop/venv/lib/python3.13/site-packages (from ipykernel->-r requirements.txt (line 24)) (0.1.7)\n",
      "Requirement already satisfied: nest-asyncio>=1.4 in /Users/lshubh/Documents/work/aws/strands-agents/strands-agents-workshop/venv/lib/python3.13/site-packages (from ipykernel->-r requirements.txt (line 24)) (1.6.0)\n",
      "Requirement already satisfied: psutil>=5.7 in /Users/lshubh/Documents/work/aws/strands-agents/strands-agents-workshop/venv/lib/python3.13/site-packages (from ipykernel->-r requirements.txt (line 24)) (7.0.0)\n",
      "Requirement already satisfied: pyzmq>=25 in /Users/lshubh/Documents/work/aws/strands-agents/strands-agents-workshop/venv/lib/python3.13/site-packages (from ipykernel->-r requirements.txt (line 24)) (27.0.1)\n",
      "Requirement already satisfied: tornado>=6.2 in /Users/lshubh/Documents/work/aws/strands-agents/strands-agents-workshop/venv/lib/python3.13/site-packages (from ipykernel->-r requirements.txt (line 24)) (6.5.2)\n",
      "Requirement already satisfied: traitlets>=5.4.0 in /Users/lshubh/Documents/work/aws/strands-agents/strands-agents-workshop/venv/lib/python3.13/site-packages (from ipykernel->-r requirements.txt (line 24)) (5.14.3)\n",
      "Requirement already satisfied: sniffio>=1.1 in /Users/lshubh/Documents/work/aws/strands-agents/strands-agents-workshop/venv/lib/python3.13/site-packages (from anyio>=4.5->mcp->-r requirements.txt (line 16)) (1.3.1)\n",
      "Requirement already satisfied: httpcore==1.* in /Users/lshubh/Documents/work/aws/strands-agents/strands-agents-workshop/venv/lib/python3.13/site-packages (from httpx>=0.27.1->mcp->-r requirements.txt (line 16)) (1.0.9)\n",
      "Requirement already satisfied: h11>=0.16 in /Users/lshubh/Documents/work/aws/strands-agents/strands-agents-workshop/venv/lib/python3.13/site-packages (from httpcore==1.*->httpx>=0.27.1->mcp->-r requirements.txt (line 16)) (0.16.0)\n",
      "Requirement already satisfied: decorator in /Users/lshubh/Documents/work/aws/strands-agents/strands-agents-workshop/venv/lib/python3.13/site-packages (from ipython>=7.23.1->ipykernel->-r requirements.txt (line 24)) (5.2.1)\n",
      "Requirement already satisfied: ipython-pygments-lexers in /Users/lshubh/Documents/work/aws/strands-agents/strands-agents-workshop/venv/lib/python3.13/site-packages (from ipython>=7.23.1->ipykernel->-r requirements.txt (line 24)) (1.1.1)\n",
      "Requirement already satisfied: jedi>=0.16 in /Users/lshubh/Documents/work/aws/strands-agents/strands-agents-workshop/venv/lib/python3.13/site-packages (from ipython>=7.23.1->ipykernel->-r requirements.txt (line 24)) (0.19.2)\n",
      "Requirement already satisfied: pexpect>4.3 in /Users/lshubh/Documents/work/aws/strands-agents/strands-agents-workshop/venv/lib/python3.13/site-packages (from ipython>=7.23.1->ipykernel->-r requirements.txt (line 24)) (4.9.0)\n",
      "Requirement already satisfied: stack_data in /Users/lshubh/Documents/work/aws/strands-agents/strands-agents-workshop/venv/lib/python3.13/site-packages (from ipython>=7.23.1->ipykernel->-r requirements.txt (line 24)) (0.6.3)\n",
      "Requirement already satisfied: parso<0.9.0,>=0.8.4 in /Users/lshubh/Documents/work/aws/strands-agents/strands-agents-workshop/venv/lib/python3.13/site-packages (from jedi>=0.16->ipython>=7.23.1->ipykernel->-r requirements.txt (line 24)) (0.8.4)\n",
      "Requirement already satisfied: attrs>=22.2.0 in /Users/lshubh/Documents/work/aws/strands-agents/strands-agents-workshop/venv/lib/python3.13/site-packages (from jsonschema>=4.20.0->mcp->-r requirements.txt (line 16)) (25.3.0)\n",
      "Requirement already satisfied: jsonschema-specifications>=2023.03.6 in /Users/lshubh/Documents/work/aws/strands-agents/strands-agents-workshop/venv/lib/python3.13/site-packages (from jsonschema>=4.20.0->mcp->-r requirements.txt (line 16)) (2025.4.1)\n",
      "Requirement already satisfied: referencing>=0.28.4 in /Users/lshubh/Documents/work/aws/strands-agents/strands-agents-workshop/venv/lib/python3.13/site-packages (from jsonschema>=4.20.0->mcp->-r requirements.txt (line 16)) (0.36.2)\n",
      "Requirement already satisfied: rpds-py>=0.7.1 in /Users/lshubh/Documents/work/aws/strands-agents/strands-agents-workshop/venv/lib/python3.13/site-packages (from jsonschema>=4.20.0->mcp->-r requirements.txt (line 16)) (0.27.0)\n",
      "Requirement already satisfied: platformdirs>=2.5 in /Users/lshubh/Documents/work/aws/strands-agents/strands-agents-workshop/venv/lib/python3.13/site-packages (from jupyter-core!=5.0.*,>=4.12->ipykernel->-r requirements.txt (line 24)) (4.3.8)\n",
      "Requirement already satisfied: mdurl~=0.1 in /Users/lshubh/Documents/work/aws/strands-agents/strands-agents-workshop/venv/lib/python3.13/site-packages (from markdown-it-py>=2.2.0->rich<15.0.0,>=14.0.0->strands-agents-tools->-r requirements.txt (line 3)) (0.1.2)\n",
      "Requirement already satisfied: distro<2,>=1.7.0 in /Users/lshubh/Documents/work/aws/strands-agents/strands-agents-workshop/venv/lib/python3.13/site-packages (from openai>=1.33.0->mem0ai->-r requirements.txt (line 19)) (1.9.0)\n",
      "Requirement already satisfied: jiter<1,>=0.4.0 in /Users/lshubh/Documents/work/aws/strands-agents/strands-agents-workshop/venv/lib/python3.13/site-packages (from openai>=1.33.0->mem0ai->-r requirements.txt (line 19)) (0.10.0)\n",
      "Requirement already satisfied: tqdm>4 in /Users/lshubh/Documents/work/aws/strands-agents/strands-agents-workshop/venv/lib/python3.13/site-packages (from openai>=1.33.0->mem0ai->-r requirements.txt (line 19)) (4.67.1)\n",
      "Requirement already satisfied: ptyprocess>=0.5 in /Users/lshubh/Documents/work/aws/strands-agents/strands-agents-workshop/venv/lib/python3.13/site-packages (from pexpect>4.3->ipython>=7.23.1->ipykernel->-r requirements.txt (line 24)) (0.7.0)\n",
      "Requirement already satisfied: backoff>=1.10.0 in /Users/lshubh/Documents/work/aws/strands-agents/strands-agents-workshop/venv/lib/python3.13/site-packages (from posthog>=3.5.0->mem0ai->-r requirements.txt (line 19)) (2.2.1)\n",
      "Requirement already satisfied: python-dotenv>=0.21.0 in /Users/lshubh/Documents/work/aws/strands-agents/strands-agents-workshop/venv/lib/python3.13/site-packages (from pydantic-settings>=2.5.2->mcp->-r requirements.txt (line 16)) (1.1.1)\n",
      "Requirement already satisfied: grpcio>=1.41.0 in /Users/lshubh/Documents/work/aws/strands-agents/strands-agents-workshop/venv/lib/python3.13/site-packages (from qdrant-client>=1.9.1->mem0ai->-r requirements.txt (line 19)) (1.74.0)\n",
      "Requirement already satisfied: numpy>=2.1.0 in /Users/lshubh/Documents/work/aws/strands-agents/strands-agents-workshop/venv/lib/python3.13/site-packages (from qdrant-client>=1.9.1->mem0ai->-r requirements.txt (line 19)) (2.3.2)\n",
      "Requirement already satisfied: portalocker<4.0,>=2.7.0 in /Users/lshubh/Documents/work/aws/strands-agents/strands-agents-workshop/venv/lib/python3.13/site-packages (from qdrant-client>=1.9.1->mem0ai->-r requirements.txt (line 19)) (3.2.0)\n",
      "Requirement already satisfied: h2<5,>=3 in /Users/lshubh/Documents/work/aws/strands-agents/strands-agents-workshop/venv/lib/python3.13/site-packages (from httpx[http2]>=0.20.0->qdrant-client>=1.9.1->mem0ai->-r requirements.txt (line 19)) (4.2.0)\n",
      "Requirement already satisfied: hyperframe<7,>=6.1 in /Users/lshubh/Documents/work/aws/strands-agents/strands-agents-workshop/venv/lib/python3.13/site-packages (from h2<5,>=3->httpx[http2]>=0.20.0->qdrant-client>=1.9.1->mem0ai->-r requirements.txt (line 19)) (6.1.0)\n",
      "Requirement already satisfied: hpack<5,>=4.1 in /Users/lshubh/Documents/work/aws/strands-agents/strands-agents-workshop/venv/lib/python3.13/site-packages (from h2<5,>=3->httpx[http2]>=0.20.0->qdrant-client>=1.9.1->mem0ai->-r requirements.txt (line 19)) (4.1.0)\n",
      "Requirement already satisfied: webencodings in /Users/lshubh/Documents/work/aws/strands-agents/strands-agents-workshop/venv/lib/python3.13/site-packages (from html5lib->readabilipy<1.0.0,>=0.2.0->strands-agents-tools->-r requirements.txt (line 3)) (0.5.1)\n",
      "Requirement already satisfied: widgetsnbextension~=4.0.14 in /Users/lshubh/Documents/work/aws/strands-agents/strands-agents-workshop/venv/lib/python3.13/site-packages (from ipywidgets->jupyter->-r requirements.txt (line 23)) (4.0.14)\n",
      "Requirement already satisfied: jupyterlab_widgets~=3.0.15 in /Users/lshubh/Documents/work/aws/strands-agents/strands-agents-workshop/venv/lib/python3.13/site-packages (from ipywidgets->jupyter->-r requirements.txt (line 23)) (3.0.15)\n",
      "Requirement already satisfied: async-lru>=1.0.0 in /Users/lshubh/Documents/work/aws/strands-agents/strands-agents-workshop/venv/lib/python3.13/site-packages (from jupyterlab->jupyter->-r requirements.txt (line 23)) (2.0.5)\n",
      "Requirement already satisfied: jinja2>=3.0.3 in /Users/lshubh/Documents/work/aws/strands-agents/strands-agents-workshop/venv/lib/python3.13/site-packages (from jupyterlab->jupyter->-r requirements.txt (line 23)) (3.1.6)\n",
      "Requirement already satisfied: jupyter-lsp>=2.0.0 in /Users/lshubh/Documents/work/aws/strands-agents/strands-agents-workshop/venv/lib/python3.13/site-packages (from jupyterlab->jupyter->-r requirements.txt (line 23)) (2.2.6)\n",
      "Requirement already satisfied: jupyter-server<3,>=2.4.0 in /Users/lshubh/Documents/work/aws/strands-agents/strands-agents-workshop/venv/lib/python3.13/site-packages (from jupyterlab->jupyter->-r requirements.txt (line 23)) (2.16.0)\n",
      "Requirement already satisfied: jupyterlab-server<3,>=2.27.1 in /Users/lshubh/Documents/work/aws/strands-agents/strands-agents-workshop/venv/lib/python3.13/site-packages (from jupyterlab->jupyter->-r requirements.txt (line 23)) (2.27.3)\n",
      "Requirement already satisfied: notebook-shim>=0.2 in /Users/lshubh/Documents/work/aws/strands-agents/strands-agents-workshop/venv/lib/python3.13/site-packages (from jupyterlab->jupyter->-r requirements.txt (line 23)) (0.2.4)\n",
      "Requirement already satisfied: setuptools>=41.1.0 in /Users/lshubh/Documents/work/aws/strands-agents/strands-agents-workshop/venv/lib/python3.13/site-packages (from jupyterlab->jupyter->-r requirements.txt (line 23)) (80.9.0)\n",
      "Requirement already satisfied: argon2-cffi>=21.1 in /Users/lshubh/Documents/work/aws/strands-agents/strands-agents-workshop/venv/lib/python3.13/site-packages (from jupyter-server<3,>=2.4.0->jupyterlab->jupyter->-r requirements.txt (line 23)) (25.1.0)\n",
      "Requirement already satisfied: jupyter-events>=0.11.0 in /Users/lshubh/Documents/work/aws/strands-agents/strands-agents-workshop/venv/lib/python3.13/site-packages (from jupyter-server<3,>=2.4.0->jupyterlab->jupyter->-r requirements.txt (line 23)) (0.12.0)\n",
      "Requirement already satisfied: jupyter-server-terminals>=0.4.4 in /Users/lshubh/Documents/work/aws/strands-agents/strands-agents-workshop/venv/lib/python3.13/site-packages (from jupyter-server<3,>=2.4.0->jupyterlab->jupyter->-r requirements.txt (line 23)) (0.5.3)\n",
      "Requirement already satisfied: nbformat>=5.3.0 in /Users/lshubh/Documents/work/aws/strands-agents/strands-agents-workshop/venv/lib/python3.13/site-packages (from jupyter-server<3,>=2.4.0->jupyterlab->jupyter->-r requirements.txt (line 23)) (5.10.4)\n",
      "Requirement already satisfied: overrides>=5.0 in /Users/lshubh/Documents/work/aws/strands-agents/strands-agents-workshop/venv/lib/python3.13/site-packages (from jupyter-server<3,>=2.4.0->jupyterlab->jupyter->-r requirements.txt (line 23)) (7.7.0)\n",
      "Requirement already satisfied: prometheus-client>=0.9 in /Users/lshubh/Documents/work/aws/strands-agents/strands-agents-workshop/venv/lib/python3.13/site-packages (from jupyter-server<3,>=2.4.0->jupyterlab->jupyter->-r requirements.txt (line 23)) (0.22.1)\n",
      "Requirement already satisfied: send2trash>=1.8.2 in /Users/lshubh/Documents/work/aws/strands-agents/strands-agents-workshop/venv/lib/python3.13/site-packages (from jupyter-server<3,>=2.4.0->jupyterlab->jupyter->-r requirements.txt (line 23)) (1.8.3)\n",
      "Requirement already satisfied: terminado>=0.8.3 in /Users/lshubh/Documents/work/aws/strands-agents/strands-agents-workshop/venv/lib/python3.13/site-packages (from jupyter-server<3,>=2.4.0->jupyterlab->jupyter->-r requirements.txt (line 23)) (0.18.1)\n",
      "Requirement already satisfied: websocket-client>=1.7 in /Users/lshubh/Documents/work/aws/strands-agents/strands-agents-workshop/venv/lib/python3.13/site-packages (from jupyter-server<3,>=2.4.0->jupyterlab->jupyter->-r requirements.txt (line 23)) (1.8.0)\n",
      "Requirement already satisfied: babel>=2.10 in /Users/lshubh/Documents/work/aws/strands-agents/strands-agents-workshop/venv/lib/python3.13/site-packages (from jupyterlab-server<3,>=2.27.1->jupyterlab->jupyter->-r requirements.txt (line 23)) (2.17.0)\n",
      "Requirement already satisfied: json5>=0.9.0 in /Users/lshubh/Documents/work/aws/strands-agents/strands-agents-workshop/venv/lib/python3.13/site-packages (from jupyterlab-server<3,>=2.27.1->jupyterlab->jupyter->-r requirements.txt (line 23)) (0.12.1)\n",
      "Requirement already satisfied: argon2-cffi-bindings in /Users/lshubh/Documents/work/aws/strands-agents/strands-agents-workshop/venv/lib/python3.13/site-packages (from argon2-cffi>=21.1->jupyter-server<3,>=2.4.0->jupyterlab->jupyter->-r requirements.txt (line 23)) (25.1.0)\n",
      "Requirement already satisfied: MarkupSafe>=2.0 in /Users/lshubh/Documents/work/aws/strands-agents/strands-agents-workshop/venv/lib/python3.13/site-packages (from jinja2>=3.0.3->jupyterlab->jupyter->-r requirements.txt (line 23)) (3.0.2)\n",
      "Requirement already satisfied: python-json-logger>=2.0.4 in /Users/lshubh/Documents/work/aws/strands-agents/strands-agents-workshop/venv/lib/python3.13/site-packages (from jupyter-events>=0.11.0->jupyter-server<3,>=2.4.0->jupyterlab->jupyter->-r requirements.txt (line 23)) (3.3.0)\n",
      "Requirement already satisfied: pyyaml>=5.3 in /Users/lshubh/Documents/work/aws/strands-agents/strands-agents-workshop/venv/lib/python3.13/site-packages (from jupyter-events>=0.11.0->jupyter-server<3,>=2.4.0->jupyterlab->jupyter->-r requirements.txt (line 23)) (6.0.2)\n",
      "Requirement already satisfied: rfc3339-validator in /Users/lshubh/Documents/work/aws/strands-agents/strands-agents-workshop/venv/lib/python3.13/site-packages (from jupyter-events>=0.11.0->jupyter-server<3,>=2.4.0->jupyterlab->jupyter->-r requirements.txt (line 23)) (0.1.4)\n",
      "Requirement already satisfied: rfc3986-validator>=0.1.1 in /Users/lshubh/Documents/work/aws/strands-agents/strands-agents-workshop/venv/lib/python3.13/site-packages (from jupyter-events>=0.11.0->jupyter-server<3,>=2.4.0->jupyterlab->jupyter->-r requirements.txt (line 23)) (0.1.1)\n",
      "Requirement already satisfied: fqdn in /Users/lshubh/Documents/work/aws/strands-agents/strands-agents-workshop/venv/lib/python3.13/site-packages (from jsonschema[format-nongpl]>=4.18.0->jupyter-events>=0.11.0->jupyter-server<3,>=2.4.0->jupyterlab->jupyter->-r requirements.txt (line 23)) (1.5.1)\n",
      "Requirement already satisfied: isoduration in /Users/lshubh/Documents/work/aws/strands-agents/strands-agents-workshop/venv/lib/python3.13/site-packages (from jsonschema[format-nongpl]>=4.18.0->jupyter-events>=0.11.0->jupyter-server<3,>=2.4.0->jupyterlab->jupyter->-r requirements.txt (line 23)) (20.11.0)\n",
      "Requirement already satisfied: jsonpointer>1.13 in /Users/lshubh/Documents/work/aws/strands-agents/strands-agents-workshop/venv/lib/python3.13/site-packages (from jsonschema[format-nongpl]>=4.18.0->jupyter-events>=0.11.0->jupyter-server<3,>=2.4.0->jupyterlab->jupyter->-r requirements.txt (line 23)) (3.0.0)\n",
      "Requirement already satisfied: rfc3987-syntax>=1.1.0 in /Users/lshubh/Documents/work/aws/strands-agents/strands-agents-workshop/venv/lib/python3.13/site-packages (from jsonschema[format-nongpl]>=4.18.0->jupyter-events>=0.11.0->jupyter-server<3,>=2.4.0->jupyterlab->jupyter->-r requirements.txt (line 23)) (1.1.0)\n",
      "Requirement already satisfied: uri-template in /Users/lshubh/Documents/work/aws/strands-agents/strands-agents-workshop/venv/lib/python3.13/site-packages (from jsonschema[format-nongpl]>=4.18.0->jupyter-events>=0.11.0->jupyter-server<3,>=2.4.0->jupyterlab->jupyter->-r requirements.txt (line 23)) (1.3.0)\n",
      "Requirement already satisfied: webcolors>=24.6.0 in /Users/lshubh/Documents/work/aws/strands-agents/strands-agents-workshop/venv/lib/python3.13/site-packages (from jsonschema[format-nongpl]>=4.18.0->jupyter-events>=0.11.0->jupyter-server<3,>=2.4.0->jupyterlab->jupyter->-r requirements.txt (line 23)) (24.11.1)\n",
      "Requirement already satisfied: bleach!=5.0.0 in /Users/lshubh/Documents/work/aws/strands-agents/strands-agents-workshop/venv/lib/python3.13/site-packages (from bleach[css]!=5.0.0->nbconvert->jupyter->-r requirements.txt (line 23)) (6.2.0)\n",
      "Requirement already satisfied: defusedxml in /Users/lshubh/Documents/work/aws/strands-agents/strands-agents-workshop/venv/lib/python3.13/site-packages (from nbconvert->jupyter->-r requirements.txt (line 23)) (0.7.1)\n",
      "Requirement already satisfied: jupyterlab-pygments in /Users/lshubh/Documents/work/aws/strands-agents/strands-agents-workshop/venv/lib/python3.13/site-packages (from nbconvert->jupyter->-r requirements.txt (line 23)) (0.3.0)\n",
      "Requirement already satisfied: mistune<4,>=2.0.3 in /Users/lshubh/Documents/work/aws/strands-agents/strands-agents-workshop/venv/lib/python3.13/site-packages (from nbconvert->jupyter->-r requirements.txt (line 23)) (3.1.3)\n",
      "Requirement already satisfied: nbclient>=0.5.0 in /Users/lshubh/Documents/work/aws/strands-agents/strands-agents-workshop/venv/lib/python3.13/site-packages (from nbconvert->jupyter->-r requirements.txt (line 23)) (0.10.2)\n",
      "Requirement already satisfied: pandocfilters>=1.4.1 in /Users/lshubh/Documents/work/aws/strands-agents/strands-agents-workshop/venv/lib/python3.13/site-packages (from nbconvert->jupyter->-r requirements.txt (line 23)) (1.5.1)\n",
      "Requirement already satisfied: tinycss2<1.5,>=1.1.0 in /Users/lshubh/Documents/work/aws/strands-agents/strands-agents-workshop/venv/lib/python3.13/site-packages (from bleach[css]!=5.0.0->nbconvert->jupyter->-r requirements.txt (line 23)) (1.4.0)\n",
      "Requirement already satisfied: fastjsonschema>=2.15 in /Users/lshubh/Documents/work/aws/strands-agents/strands-agents-workshop/venv/lib/python3.13/site-packages (from nbformat>=5.3.0->jupyter-server<3,>=2.4.0->jupyterlab->jupyter->-r requirements.txt (line 23)) (2.21.2)\n",
      "Requirement already satisfied: lark>=1.2.2 in /Users/lshubh/Documents/work/aws/strands-agents/strands-agents-workshop/venv/lib/python3.13/site-packages (from rfc3987-syntax>=1.1.0->jsonschema[format-nongpl]>=4.18.0->jupyter-events>=0.11.0->jupyter-server<3,>=2.4.0->jupyterlab->jupyter->-r requirements.txt (line 23)) (1.2.2)\n",
      "Requirement already satisfied: cffi>=1.0.1 in /Users/lshubh/Documents/work/aws/strands-agents/strands-agents-workshop/venv/lib/python3.13/site-packages (from argon2-cffi-bindings->argon2-cffi>=21.1->jupyter-server<3,>=2.4.0->jupyterlab->jupyter->-r requirements.txt (line 23)) (1.17.1)\n",
      "Requirement already satisfied: pycparser in /Users/lshubh/Documents/work/aws/strands-agents/strands-agents-workshop/venv/lib/python3.13/site-packages (from cffi>=1.0.1->argon2-cffi-bindings->argon2-cffi>=21.1->jupyter-server<3,>=2.4.0->jupyterlab->jupyter->-r requirements.txt (line 23)) (2.22)\n",
      "Requirement already satisfied: arrow>=0.15.0 in /Users/lshubh/Documents/work/aws/strands-agents/strands-agents-workshop/venv/lib/python3.13/site-packages (from isoduration->jsonschema[format-nongpl]>=4.18.0->jupyter-events>=0.11.0->jupyter-server<3,>=2.4.0->jupyterlab->jupyter->-r requirements.txt (line 23)) (1.3.0)\n",
      "Requirement already satisfied: types-python-dateutil>=2.8.10 in /Users/lshubh/Documents/work/aws/strands-agents/strands-agents-workshop/venv/lib/python3.13/site-packages (from arrow>=0.15.0->isoduration->jsonschema[format-nongpl]>=4.18.0->jupyter-events>=0.11.0->jupyter-server<3,>=2.4.0->jupyterlab->jupyter->-r requirements.txt (line 23)) (2.9.0.20250809)\n",
      "Requirement already satisfied: executing>=1.2.0 in /Users/lshubh/Documents/work/aws/strands-agents/strands-agents-workshop/venv/lib/python3.13/site-packages (from stack_data->ipython>=7.23.1->ipykernel->-r requirements.txt (line 24)) (2.2.0)\n",
      "Requirement already satisfied: asttokens>=2.1.0 in /Users/lshubh/Documents/work/aws/strands-agents/strands-agents-workshop/venv/lib/python3.13/site-packages (from stack_data->ipython>=7.23.1->ipykernel->-r requirements.txt (line 24)) (3.0.0)\n",
      "Requirement already satisfied: pure-eval in /Users/lshubh/Documents/work/aws/strands-agents/strands-agents-workshop/venv/lib/python3.13/site-packages (from stack_data->ipython>=7.23.1->ipykernel->-r requirements.txt (line 24)) (0.2.3)\n"
     ]
    }
   ],
   "source": [
    "!pip install -r requirements.txt"
   ]
  },
  {
   "cell_type": "markdown",
   "metadata": {},
   "source": [
    "## 🔧 Configuration and Imports"
   ]
  },
  {
   "cell_type": "code",
   "execution_count": 7,
   "metadata": {},
   "outputs": [
    {
     "name": "stdout",
     "output_type": "stream",
     "text": [
      "Memory agents setup complete!\n"
     ]
    }
   ],
   "source": [
    "import os\n",
    "from strands import Agent\n",
    "from strands_tools import mem0_memory\n",
    "import logging\n",
    "\n",
    "# Configure logging for cleaner output\n",
    "logging.getLogger(\"strands\").setLevel(logging.WARNING)\n",
    "\n",
    "# Optional: Set MEM0 API key for memory features (get your free key from https://mem0.ai)\n",
    "MEM0_API_KEY = os.getenv(\"MEM0_API_KEY\")\n",
    "if MEM0_API_KEY:\n",
    "    os.environ[\"MEM0_API_KEY\"] = MEM0_API_KEY\n",
    "\n",
    "print(\"Memory agents setup complete!\")"
   ]
  },
  {
   "cell_type": "markdown",
   "metadata": {},
   "source": [
    "## 🧠 Creating Memory-Enabled Agents\n",
    "\n",
    "Let's create an agent that can remember information across conversations:"
   ]
  },
  {
   "cell_type": "code",
   "execution_count": 8,
   "metadata": {},
   "outputs": [
    {
     "name": "stdout",
     "output_type": "stream",
     "text": [
      "✅ MEM0_API_KEY found - using real memory\n",
      "🔧 Using: Real Mem0 memory\n"
     ]
    }
   ],
   "source": [
    "# Check if Mem0 API key is available\n",
    "mem0_key = os.getenv(\"MEM0_API_KEY\")\n",
    "\n",
    "if mem0_key:\n",
    "    print(\"✅ MEM0_API_KEY found - using real memory\")\n",
    "    try:\n",
    "        agent = Agent(\n",
    "            model=\"us.anthropic.claude-sonnet-4-20250514-v1:0\",\n",
    "            tools=[mem0_memory],\n",
    "        )\n",
    "        memory_type = \"Real Mem0 memory\"\n",
    "    except Exception as e:\n",
    "        print(f\"⚠️ Mem0 error: {e}\")\n",
    "        agent = None\n",
    "        memory_type = \"No memory (Mem0 error)\"\n",
    "else:\n",
    "    print(\"⚠️ No MEM0_API_KEY provided\")\n",
    "    agent = None\n",
    "    memory_type = \"No memory (no API key)\"\n",
    "\n",
    "print(f\"🔧 Using: {memory_type}\")"
   ]
  },
  {
   "cell_type": "markdown",
   "metadata": {},
   "source": [
    "## 💬 Testing Memory Functionality\n",
    "\n",
    "Let's test if our agent can remember information across conversations:"
   ]
  },
  {
   "cell_type": "code",
   "execution_count": 9,
   "metadata": {},
   "outputs": [
    {
     "name": "stdout",
     "output_type": "stream",
     "text": [
      "💬 Conversation 1:\n",
      "Hello Shubham! Nice to meet you! It's great to hear that you're passionate about DevOps & Cloud - those are such exciting and rapidly evolving fields with lots of opportunities.\n",
      "\n",
      "Let me store this information about you so I can remember it for our future conversations.\n",
      "Tool #1: mem0_memory\n"
     ]
    },
    {
     "data": {
      "text/html": [
       "<pre style=\"white-space:pre;overflow-x:auto;line-height:normal;font-family:Menlo,'DejaVu Sans Mono',consolas,'Courier New',monospace\"><span style=\"color: #008000; text-decoration-color: #008000\">╭──────────────────────────────────────────── </span><span style=\"color: #008000; text-decoration-color: #008000; font-weight: bold\">Memory for user Shubham</span><span style=\"color: #008000; text-decoration-color: #008000\"> ────────────────────────────────────────────╮</span>\n",
       "<span style=\"color: #008000; text-decoration-color: #008000\">│</span> User's name is Shubham and he loves DevOps &amp; Cloud technologies                                                 <span style=\"color: #008000; text-decoration-color: #008000\">│</span>\n",
       "<span style=\"color: #008000; text-decoration-color: #008000\">╰─────────────────────────────────────────────────────────────────────────────────────────────────────────────────╯</span>\n",
       "</pre>\n"
      ],
      "text/plain": [
       "\u001b[32m╭─\u001b[0m\u001b[32m───────────────────────────────────────────\u001b[0m\u001b[32m \u001b[0m\u001b[1;32mMemory for user Shubham\u001b[0m\u001b[32m \u001b[0m\u001b[32m───────────────────────────────────────────\u001b[0m\u001b[32m─╮\u001b[0m\n",
       "\u001b[32m│\u001b[0m User's name is Shubham and he loves DevOps & Cloud technologies                                                 \u001b[32m│\u001b[0m\n",
       "\u001b[32m╰─────────────────────────────────────────────────────────────────────────────────────────────────────────────────╯\u001b[0m\n"
      ]
     },
     "metadata": {},
     "output_type": "display_data"
    },
    {
     "name": "stderr",
     "output_type": "stream",
     "text": [
      "/Users/lshubh/Documents/work/aws/strands-agents/strands-agents-workshop/venv/lib/python3.13/site-packages/mem0/client/utils.py:21: DeprecationWarning: output_format='v1.0' is deprecated therefore setting it to 'v1.1' by default. Check out the docs for more information: https://docs.mem0.ai/platform/quickstart#4-1-create-memories\n",
      "  return func(*args, **kwargs)\n"
     ]
    },
    {
     "name": "stdout",
     "output_type": "stream",
     "text": [
      "Great! I've stored that information. What aspects of DevOps and Cloud are you most interested in or working with currently? Are you focusing on any particular cloud platforms like AWS, Azure, or GCP? Or maybe specific DevOps tools and practices?\n",
      "💬 Conversation 2:\n",
      "\n",
      "Tool #2: mem0_memory\n"
     ]
    },
    {
     "data": {
      "text/html": [
       "<pre style=\"white-space:pre;overflow-x:auto;line-height:normal;font-family:Menlo,'DejaVu Sans Mono',consolas,'Courier New',monospace\"><span style=\"color: #008000; text-decoration-color: #008000\">╭───────────────────────────────────────────────── </span><span style=\"color: #008000; text-decoration-color: #008000; font-weight: bold\">Memories List</span><span style=\"color: #008000; text-decoration-color: #008000\"> ─────────────────────────────────────────────────╮</span>\n",
       "<span style=\"color: #008000; text-decoration-color: #008000\">│</span> <span style=\"font-style: italic\">                                                   Memories                                                    </span> <span style=\"color: #008000; text-decoration-color: #008000\">│</span>\n",
       "<span style=\"color: #008000; text-decoration-color: #008000\">│</span> ┏━━━━━━━━━━━━━━━┳━━━━━━━━━━━━━━━━━━━━━━━━━━━━━━━━━━━━━━━━━━━━━━━━━━━━┳━━━━━━━━━━━━━━┳━━━━━━━━━┳━━━━━━━━━━━━━━━┓ <span style=\"color: #008000; text-decoration-color: #008000\">│</span>\n",
       "<span style=\"color: #008000; text-decoration-color: #008000\">│</span> ┃<span style=\"color: #800080; text-decoration-color: #800080; font-weight: bold\"> ID            </span>┃<span style=\"color: #800080; text-decoration-color: #800080; font-weight: bold\"> Memory                                             </span>┃<span style=\"color: #800080; text-decoration-color: #800080; font-weight: bold\"> Created At   </span>┃<span style=\"color: #800080; text-decoration-color: #800080; font-weight: bold\"> User ID </span>┃<span style=\"color: #800080; text-decoration-color: #800080; font-weight: bold\"> Metadata      </span>┃ <span style=\"color: #008000; text-decoration-color: #008000\">│</span>\n",
       "<span style=\"color: #008000; text-decoration-color: #008000\">│</span> ┡━━━━━━━━━━━━━━━╇━━━━━━━━━━━━━━━━━━━━━━━━━━━━━━━━━━━━━━━━━━━━━━━━━━━━╇━━━━━━━━━━━━━━╇━━━━━━━━━╇━━━━━━━━━━━━━━━┩ <span style=\"color: #008000; text-decoration-color: #008000\">│</span>\n",
       "<span style=\"color: #008000; text-decoration-color: #008000\">│</span> │<span style=\"color: #008080; text-decoration-color: #008080\"> e40355e2-ea2… </span>│<span style=\"color: #808000; text-decoration-color: #808000\"> Loves DevOps &amp; Cloud technologies                  </span>│<span style=\"color: #000080; text-decoration-color: #000080\"> 2025-08-17T… </span>│<span style=\"color: #008000; text-decoration-color: #008000\"> Shubham </span>│<span style=\"color: #800080; text-decoration-color: #800080\"> {             </span>│ <span style=\"color: #008000; text-decoration-color: #008000\">│</span>\n",
       "<span style=\"color: #008000; text-decoration-color: #008000\">│</span> │<span style=\"color: #008080; text-decoration-color: #008080\">               </span>│<span style=\"color: #808000; text-decoration-color: #808000\">                                                    </span>│<span style=\"color: #000080; text-decoration-color: #000080\">              </span>│<span style=\"color: #008000; text-decoration-color: #008000\">         </span>│<span style=\"color: #800080; text-decoration-color: #800080\">   \"greeting\": </span>│ <span style=\"color: #008000; text-decoration-color: #008000\">│</span>\n",
       "<span style=\"color: #008000; text-decoration-color: #008000\">│</span> │<span style=\"color: #008080; text-decoration-color: #008080\">               </span>│<span style=\"color: #808000; text-decoration-color: #808000\">                                                    </span>│<span style=\"color: #000080; text-decoration-color: #000080\">              </span>│<span style=\"color: #008000; text-decoration-color: #008000\">         </span>│<span style=\"color: #800080; text-decoration-color: #800080\"> \"first_inter… </span>│ <span style=\"color: #008000; text-decoration-color: #008000\">│</span>\n",
       "<span style=\"color: #008000; text-decoration-color: #008000\">│</span> │<span style=\"color: #008080; text-decoration-color: #008080\">               </span>│<span style=\"color: #808000; text-decoration-color: #808000\">                                                    </span>│<span style=\"color: #000080; text-decoration-color: #000080\">              </span>│<span style=\"color: #008000; text-decoration-color: #008000\">         </span>│<span style=\"color: #800080; text-decoration-color: #800080\">   \"interests… </span>│ <span style=\"color: #008000; text-decoration-color: #008000\">│</span>\n",
       "<span style=\"color: #008000; text-decoration-color: #008000\">│</span> │<span style=\"color: #008080; text-decoration-color: #008080\">               </span>│<span style=\"color: #808000; text-decoration-color: #808000\">                                                    </span>│<span style=\"color: #000080; text-decoration-color: #000080\">              </span>│<span style=\"color: #008000; text-decoration-color: #008000\">         </span>│<span style=\"color: #800080; text-decoration-color: #800080\"> [             </span>│ <span style=\"color: #008000; text-decoration-color: #008000\">│</span>\n",
       "<span style=\"color: #008000; text-decoration-color: #008000\">│</span> │<span style=\"color: #008080; text-decoration-color: #008080\">               </span>│<span style=\"color: #808000; text-decoration-color: #808000\">                                                    </span>│<span style=\"color: #000080; text-decoration-color: #000080\">              </span>│<span style=\"color: #008000; text-decoration-color: #008000\">         </span>│<span style=\"color: #800080; text-decoration-color: #800080\">     \"DevOps\", </span>│ <span style=\"color: #008000; text-decoration-color: #008000\">│</span>\n",
       "<span style=\"color: #008000; text-decoration-color: #008000\">│</span> │<span style=\"color: #008080; text-decoration-color: #008080\">               </span>│<span style=\"color: #808000; text-decoration-color: #808000\">                                                    </span>│<span style=\"color: #000080; text-decoration-color: #000080\">              </span>│<span style=\"color: #008000; text-decoration-color: #008000\">         </span>│<span style=\"color: #800080; text-decoration-color: #800080\">     \"Cloud\"   </span>│ <span style=\"color: #008000; text-decoration-color: #008000\">│</span>\n",
       "<span style=\"color: #008000; text-decoration-color: #008000\">│</span> │<span style=\"color: #008080; text-decoration-color: #008080\">               </span>│<span style=\"color: #808000; text-decoration-color: #808000\">                                                    </span>│<span style=\"color: #000080; text-decoration-color: #000080\">              </span>│<span style=\"color: #008000; text-decoration-color: #008000\">         </span>│<span style=\"color: #800080; text-decoration-color: #800080\">   ]           </span>│ <span style=\"color: #008000; text-decoration-color: #008000\">│</span>\n",
       "<span style=\"color: #008000; text-decoration-color: #008000\">│</span> │<span style=\"color: #008080; text-decoration-color: #008080\">               </span>│<span style=\"color: #808000; text-decoration-color: #808000\">                                                    </span>│<span style=\"color: #000080; text-decoration-color: #000080\">              </span>│<span style=\"color: #008000; text-decoration-color: #008000\">         </span>│<span style=\"color: #800080; text-decoration-color: #800080\"> }             </span>│ <span style=\"color: #008000; text-decoration-color: #008000\">│</span>\n",
       "<span style=\"color: #008000; text-decoration-color: #008000\">│</span> │<span style=\"color: #008080; text-decoration-color: #008080\"> 1a058de7-72c… </span>│<span style=\"color: #808000; text-decoration-color: #808000\"> User name is Shubham                               </span>│<span style=\"color: #000080; text-decoration-color: #000080\"> 2025-08-17T… </span>│<span style=\"color: #008000; text-decoration-color: #008000\"> Shubham </span>│<span style=\"color: #800080; text-decoration-color: #800080\"> None          </span>│ <span style=\"color: #008000; text-decoration-color: #008000\">│</span>\n",
       "<span style=\"color: #008000; text-decoration-color: #008000\">│</span> └───────────────┴────────────────────────────────────────────────────┴──────────────┴─────────┴───────────────┘ <span style=\"color: #008000; text-decoration-color: #008000\">│</span>\n",
       "<span style=\"color: #008000; text-decoration-color: #008000\">╰─────────────────────────────────────────────────────────────────────────────────────────────────────────────────╯</span>\n",
       "</pre>\n"
      ],
      "text/plain": [
       "\u001b[32m╭─\u001b[0m\u001b[32m────────────────────────────────────────────────\u001b[0m\u001b[32m \u001b[0m\u001b[1;32mMemories List\u001b[0m\u001b[32m \u001b[0m\u001b[32m────────────────────────────────────────────────\u001b[0m\u001b[32m─╮\u001b[0m\n",
       "\u001b[32m│\u001b[0m \u001b[3m                                                   Memories                                                    \u001b[0m \u001b[32m│\u001b[0m\n",
       "\u001b[32m│\u001b[0m ┏━━━━━━━━━━━━━━━┳━━━━━━━━━━━━━━━━━━━━━━━━━━━━━━━━━━━━━━━━━━━━━━━━━━━━┳━━━━━━━━━━━━━━┳━━━━━━━━━┳━━━━━━━━━━━━━━━┓ \u001b[32m│\u001b[0m\n",
       "\u001b[32m│\u001b[0m ┃\u001b[1;35m \u001b[0m\u001b[1;35mID           \u001b[0m\u001b[1;35m \u001b[0m┃\u001b[1;35m \u001b[0m\u001b[1;35mMemory                                            \u001b[0m\u001b[1;35m \u001b[0m┃\u001b[1;35m \u001b[0m\u001b[1;35mCreated At  \u001b[0m\u001b[1;35m \u001b[0m┃\u001b[1;35m \u001b[0m\u001b[1;35mUser ID\u001b[0m\u001b[1;35m \u001b[0m┃\u001b[1;35m \u001b[0m\u001b[1;35mMetadata     \u001b[0m\u001b[1;35m \u001b[0m┃ \u001b[32m│\u001b[0m\n",
       "\u001b[32m│\u001b[0m ┡━━━━━━━━━━━━━━━╇━━━━━━━━━━━━━━━━━━━━━━━━━━━━━━━━━━━━━━━━━━━━━━━━━━━━╇━━━━━━━━━━━━━━╇━━━━━━━━━╇━━━━━━━━━━━━━━━┩ \u001b[32m│\u001b[0m\n",
       "\u001b[32m│\u001b[0m │\u001b[36m \u001b[0m\u001b[36me40355e2-ea2…\u001b[0m\u001b[36m \u001b[0m│\u001b[33m \u001b[0m\u001b[33mLoves DevOps & Cloud technologies                 \u001b[0m\u001b[33m \u001b[0m│\u001b[34m \u001b[0m\u001b[34m2025-08-17T…\u001b[0m\u001b[34m \u001b[0m│\u001b[32m \u001b[0m\u001b[32mShubham\u001b[0m\u001b[32m \u001b[0m│\u001b[35m \u001b[0m\u001b[35m{            \u001b[0m\u001b[35m \u001b[0m│ \u001b[32m│\u001b[0m\n",
       "\u001b[32m│\u001b[0m │\u001b[36m               \u001b[0m│\u001b[33m                                                    \u001b[0m│\u001b[34m              \u001b[0m│\u001b[32m         \u001b[0m│\u001b[35m \u001b[0m\u001b[35m  \"greeting\":\u001b[0m\u001b[35m \u001b[0m│ \u001b[32m│\u001b[0m\n",
       "\u001b[32m│\u001b[0m │\u001b[36m               \u001b[0m│\u001b[33m                                                    \u001b[0m│\u001b[34m              \u001b[0m│\u001b[32m         \u001b[0m│\u001b[35m \u001b[0m\u001b[35m\"first_inter…\u001b[0m\u001b[35m \u001b[0m│ \u001b[32m│\u001b[0m\n",
       "\u001b[32m│\u001b[0m │\u001b[36m               \u001b[0m│\u001b[33m                                                    \u001b[0m│\u001b[34m              \u001b[0m│\u001b[32m         \u001b[0m│\u001b[35m \u001b[0m\u001b[35m  \"interests…\u001b[0m\u001b[35m \u001b[0m│ \u001b[32m│\u001b[0m\n",
       "\u001b[32m│\u001b[0m │\u001b[36m               \u001b[0m│\u001b[33m                                                    \u001b[0m│\u001b[34m              \u001b[0m│\u001b[32m         \u001b[0m│\u001b[35m \u001b[0m\u001b[35m[            \u001b[0m\u001b[35m \u001b[0m│ \u001b[32m│\u001b[0m\n",
       "\u001b[32m│\u001b[0m │\u001b[36m               \u001b[0m│\u001b[33m                                                    \u001b[0m│\u001b[34m              \u001b[0m│\u001b[32m         \u001b[0m│\u001b[35m \u001b[0m\u001b[35m    \"DevOps\",\u001b[0m\u001b[35m \u001b[0m│ \u001b[32m│\u001b[0m\n",
       "\u001b[32m│\u001b[0m │\u001b[36m               \u001b[0m│\u001b[33m                                                    \u001b[0m│\u001b[34m              \u001b[0m│\u001b[32m         \u001b[0m│\u001b[35m \u001b[0m\u001b[35m    \"Cloud\"  \u001b[0m\u001b[35m \u001b[0m│ \u001b[32m│\u001b[0m\n",
       "\u001b[32m│\u001b[0m │\u001b[36m               \u001b[0m│\u001b[33m                                                    \u001b[0m│\u001b[34m              \u001b[0m│\u001b[32m         \u001b[0m│\u001b[35m \u001b[0m\u001b[35m  ]          \u001b[0m\u001b[35m \u001b[0m│ \u001b[32m│\u001b[0m\n",
       "\u001b[32m│\u001b[0m │\u001b[36m               \u001b[0m│\u001b[33m                                                    \u001b[0m│\u001b[34m              \u001b[0m│\u001b[32m         \u001b[0m│\u001b[35m \u001b[0m\u001b[35m}            \u001b[0m\u001b[35m \u001b[0m│ \u001b[32m│\u001b[0m\n",
       "\u001b[32m│\u001b[0m │\u001b[36m \u001b[0m\u001b[36m1a058de7-72c…\u001b[0m\u001b[36m \u001b[0m│\u001b[33m \u001b[0m\u001b[33mUser name is Shubham                              \u001b[0m\u001b[33m \u001b[0m│\u001b[34m \u001b[0m\u001b[34m2025-08-17T…\u001b[0m\u001b[34m \u001b[0m│\u001b[32m \u001b[0m\u001b[32mShubham\u001b[0m\u001b[32m \u001b[0m│\u001b[35m \u001b[0m\u001b[35mNone         \u001b[0m\u001b[35m \u001b[0m│ \u001b[32m│\u001b[0m\n",
       "\u001b[32m│\u001b[0m └───────────────┴────────────────────────────────────────────────────┴──────────────┴─────────┴───────────────┘ \u001b[32m│\u001b[0m\n",
       "\u001b[32m╰─────────────────────────────────────────────────────────────────────────────────────────────────────────────────╯\u001b[0m\n"
      ]
     },
     "metadata": {},
     "output_type": "display_data"
    },
    {
     "name": "stdout",
     "output_type": "stream",
     "text": [
      "Based on what I remember about you, Shubham:\n",
      "\n",
      "1. **Your name** is Shubham\n",
      "2. **Your interests**: You love DevOps & Cloud technologies\n",
      "3. **Your greeting style**: You like to say \"Dosto\" when greeting\n",
      "\n",
      "I remember these details from our previous interaction where you introduced yourself with enthusiasm about DevOps and Cloud computing. Is there anything else you'd like me to know about your background or interests in these areas?"
     ]
    }
   ],
   "source": [
    "# Test conversation\n",
    "if agent:\n",
    "    print(\"💬 Conversation 1:\")\n",
    "    response1 = agent(\"Hello Dosto, my name is Shubham and I love DevOps & Cloud.\")\n",
    "    print(\"\\n💬 Conversation 2:\")\n",
    "    response2 = agent(\"What do you remember about me?\")\n",
    "else:\n",
    "    print(\"❌ Cannot run conversation - agent not initialized\")\n",
    "    print(\"💡 To use memory: Set MEM0_API_KEY environment variable\")\n",
    "    print(\"   Get your free API key from https://mem0.ai\")"
   ]
  },
  {
   "cell_type": "markdown",
   "metadata": {},
   "source": [
    "## 🔄 Alternative: Agent Without Memory\n",
    "\n",
    "For comparison, let's see how a regular agent behaves without memory:"
   ]
  },
  {
   "cell_type": "code",
   "execution_count": 10,
   "metadata": {},
   "outputs": [
    {
     "name": "stdout",
     "output_type": "stream",
     "text": [
      "🤖 Regular Agent (No Memory):\n",
      "\n",
      "💬 Conversation 1:\n",
      "Hello Shubham! Nice to meet you! It's great to hear about your passion for DevOps and Cloud technologies - that's such an exciting and rapidly evolving field. \n",
      "\n",
      "Are you currently working in DevOps/Cloud, or are you learning and exploring these areas? I'd be happy to discuss anything related to:\n",
      "\n",
      "- Cloud platforms (AWS, Azure, GCP, etc.)\n",
      "- DevOps tools and practices (CI/CD, containerization, infrastructure as code)\n",
      "- Automation and monitoring\n",
      "- Best practices and emerging trends\n",
      "\n",
      "What aspects of DevOps and Cloud are you most interested in or working with lately?\n",
      "💬 Conversation 2:\n",
      "From our conversation, I remember that:\n",
      "\n",
      "- Your name is Shubham\n",
      "- You love DevOps & Cloud technologies\n",
      "\n",
      "That's all the information you've shared with me so far! If there are other things about your background, experience, or interests in DevOps and Cloud that you'd like me to know, feel free to tell me more. I'm here to help with any questions or discussions you might have about these topics.\n",
      "📝 Notice: Regular agents don't remember previous conversations!\n"
     ]
    }
   ],
   "source": [
    "# Create agent without memory for comparison\n",
    "regular_agent = Agent(\n",
    "    model=\"us.anthropic.claude-sonnet-4-20250514-v1:0\"\n",
    ")\n",
    "\n",
    "print(\"🤖 Regular Agent (No Memory):\")\n",
    "print(\"\\n💬 Conversation 1:\")\n",
    "response1 = regular_agent(\"Hello, my name is Shubham and I love DevOps & Cloud.\")\n",
    "\n",
    "print(\"\\n💬 Conversation 2:\")\n",
    "response2 = regular_agent(\"What do you remember about me?\")\n",
    "\n",
    "print(\"\\n📝 Notice: Regular agents don't remember previous conversations!\")"
   ]
  },
  {
   "cell_type": "markdown",
   "metadata": {},
   "source": [
    "## 🎯 Memory Best Practices\n",
    "\n",
    "### When to Use Memory:\n",
    "- **Personalized assistants** that need to remember user preferences\n",
    "- **Long-running conversations** spanning multiple sessions\n",
    "- **Learning systems** that adapt to user behavior\n",
    "- **Context-aware applications** requiring historical knowledge\n",
    "\n",
    "### Memory Considerations:\n",
    "- **Privacy**: Be mindful of what information is stored\n",
    "- **Cost**: Memory storage may have associated costs\n",
    "- **Performance**: Memory lookups add slight latency\n",
    "- **Cleanup**: Consider memory retention policies\n",
    "\n",
    "### Setup Instructions:\n",
    "1. **Get API Key**: Visit [mem0.ai](https://mem0.ai) for free API key\n",
    "2. **Set Environment**: `export MEM0_API_KEY=your_key_here`\n",
    "3. **Test Memory**: Run conversations to verify memory persistence\n",
    "4. **Monitor Usage**: Check memory usage in Mem0 dashboard"
   ]
  },
  {
   "cell_type": "markdown",
   "metadata": {},
   "source": [
    "## 🧪 Advanced Memory Examples\n",
    "\n",
    "Let's explore more sophisticated memory usage:"
   ]
  },
  {
   "cell_type": "code",
   "execution_count": null,
   "metadata": {},
   "outputs": [],
   "source": [
    "if agent:\n",
    "    print(\"🔬 Advanced Memory Test:\")\n",
    "    \n",
    "    # Store preferences\n",
    "    print(\"\\n💬 Setting preferences:\")\n",
    "    pref_response = agent(\"I prefer Python over JavaScript, and I work with AWS daily. Remember this!\")\n",
    "    \n",
    "    # Test recall\n",
    "    print(\"\\n💬 Testing recall:\")\n",
    "    recall_response = agent(\"What programming language do I prefer and what cloud platform do I use?\")\n",
    "    \n",
    "    # Store project info\n",
    "    print(\"\\n💬 Adding project context:\")\n",
    "    project_response = agent(\"I'm currently working on a microservices project using Docker and Kubernetes.\")\n",
    "    \n",
    "    # Comprehensive recall\n",
    "    print(\"\\n💬 Comprehensive recall:\")\n",
    "    full_recall = agent(\"Tell me everything you remember about my work and preferences.\")\n",
    "    \n",
    "else:\n",
    "    print(\"⚠️ Advanced examples require MEM0_API_KEY\")\n",
    "    print(\"💡 Set up memory to see these features in action!\")"
   ]
  },
  {
   "cell_type": "markdown",
   "metadata": {},
   "source": [
    "## 📊 Summary\n",
    "\n",
    "You've learned how to:\n",
    "\n",
    "✅ **Set up memory-enabled agents** with Mem0 integration  \n",
    "✅ **Store and retrieve information** across conversations  \n",
    "✅ **Compare memory vs non-memory** agent behavior  \n",
    "✅ **Apply memory best practices** for production use  \n",
    "\n",
    "### 🔑 Key Takeaways:\n",
    "- **Memory transforms agents** from stateless to stateful\n",
    "- **Persistent context** enables personalized experiences\n",
    "- **Privacy and cost** considerations are important\n",
    "- **Setup is simple** with environment variables\n",
    "\n",
    "### 🚀 Next Steps:\n",
    "- Get your free Mem0 API key from [mem0.ai](https://mem0.ai)\n",
    "- Experiment with different conversation patterns\n",
    "- Build personalized assistant applications\n",
    "- Explore memory management strategies\n",
    "\n",
    "**Continue to notebook 05 for advanced real-world examples! 🎯**"
   ]
  }
 ],
 "metadata": {
  "kernelspec": {
   "display_name": "Python 3 (ipykernel)",
   "language": "python",
   "name": "python3"
  },
  "language_info": {
   "codemirror_mode": {
    "name": "ipython",
    "version": 3
   },
   "file_extension": ".py",
   "mimetype": "text/x-python",
   "name": "python",
   "nbconvert_exporter": "python",
   "pygments_lexer": "ipython3",
   "version": "3.13.3"
  }
 },
 "nbformat": 4,
 "nbformat_minor": 4
}
